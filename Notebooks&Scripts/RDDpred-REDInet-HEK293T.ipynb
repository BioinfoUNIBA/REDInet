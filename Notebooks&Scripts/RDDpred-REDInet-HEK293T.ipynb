{
 "cells": [
  {
   "cell_type": "code",
   "execution_count": 5,
   "id": "8351e37b-85a5-4df9-9463-3e0bcf2292e7",
   "metadata": {},
   "outputs": [
    {
     "name": "stdout",
     "output_type": "stream",
     "text": [
      "Predicted_As\n",
      "Artefact        1695037\n",
      "True_Editing     895542\n",
      "Name: count, dtype: int64\n"
     ]
    }
   ],
   "source": [
    "import pandas as pd\n",
    "import os, gzip\n",
    "import seaborn as sn\n",
    "import matplotlib.pyplot as plt\n",
    "\n",
    "datapath = \"/lustrehome/pietrolucamazzacuva/ROC-AUC_files_HEK2937_Pecori/RDDpred_v1.0.Dir/OutDir\"\n",
    "\n",
    "df = pd.read_table(f\"{datapath}/Test.RDDpred.results_report.txt\")\n",
    "data = df[((df.iloc[:, 2] == \"A\") & (df.iloc[:, 3] == \"G\")) | ((df.iloc[:, 2] == \"T\") & (df.iloc[:, 3] == \"C\"))]\n",
    "print(data.loc[:, \"Predicted_As\"].value_counts())"
   ]
  },
  {
   "cell_type": "code",
   "execution_count": 6,
   "id": "83478167-0c3b-4d1a-b1e0-9f9002cf751a",
   "metadata": {},
   "outputs": [
    {
     "name": "stdout",
     "output_type": "stream",
     "text": [
      "RDDpred_Predicted_Class\n",
      "0    1695037\n",
      "1     895542\n",
      "Name: count, dtype: int64\n"
     ]
    }
   ],
   "source": [
    "data.reset_index(drop=True, inplace=True)\n",
    "data =data.loc[:, [\"Chromosome\", \"One_based_Position\", \"Reference_Base\", \"Variant_Base\", \"Predicted_As\"]]\n",
    "data.columns = [\"Region\", \"Position\", \"Reference_Base\", \"Variant_Base\", \"RDDpred_Predicted_Class\"]\n",
    "index = data[data.loc[:, \"RDDpred_Predicted_Class\"]==\"True_Editing\"].index.tolist()\n",
    "data.iloc[index, 4] = 1\n",
    "index = data[data.loc[:, \"RDDpred_Predicted_Class\"]==\"Artefact\"].index.tolist()\n",
    "data.iloc[index, 4] = 0\n",
    "print(data.loc[:, \"RDDpred_Predicted_Class\"].value_counts())"
   ]
  },
  {
   "cell_type": "code",
   "execution_count": 19,
   "id": "1d837cd0-fe44-4664-82da-0b86d1c451b2",
   "metadata": {},
   "outputs": [],
   "source": [
    "def return_class(x):\n",
    "    if x > 0.5:\n",
    "        predictedclass = 1\n",
    "    else:\n",
    "        predictedclass = 0\n",
    "    return predictedclass\n",
    "\n",
    "sitespath = \"/lustrehome/pietrolucamazzacuva/filezilla-recas/tissues/independent_datasets/HEK293T\"\n",
    "\n",
    "tables = [[\"outTable_599710609\", \"outTable_905657585\"], \n",
    "          [\"outTable_572868058\", \"outTable_364841872\"],\n",
    "          [\"outTable_110067244\", \"outTable_597789462\"]]\n",
    "\n",
    "siteslists = []\n",
    "\n",
    "for i in range(3):\n",
    "    \n",
    "    sites = pd.read_table(os.path.join(sitespath, f\"{tables[i][0]}_{tables[i][1]}_bona_fide_sites.tsv\"), usecols=[\"Region\", \"Position\", \"Class\"])\n",
    "    sites.columns = [\"Region\", \"Position\", \"Real_Class\"]\n",
    "    wt = pd.read_table(os.path.join(sitespath, tables[i][0]+\"_predictions.tsv\"), usecols=[\"Region\", \"Position\", \"Strand\", \"Editing_Probability\"]) \n",
    "    sites = sites.merge(wt, how=\"inner\", on=[\"Region\", \"Position\"])\n",
    "    sites.loc[:, f\"REDInet_Predicted_Class_{tables[i][0]}\"] = sites.loc[:, \"Editing_Probability\"].apply(return_class)\n",
    "    sites = sites.loc[:, [\"Region\", \"Position\", \"Strand\", \"Real_Class\", f\"REDInet_Predicted_Class_{tables[i][0]}\"]]\n",
    "    sites = sites[sites.loc[:, \"Real_Class\"]==1]\n",
    "    siteslists.append(sites)\n",
    "\n",
    "    "
   ]
  },
  {
   "cell_type": "code",
   "execution_count": 26,
   "id": "2880653a-9e5c-4107-a8c4-7f2bc99b003f",
   "metadata": {},
   "outputs": [
    {
     "name": "stdout",
     "output_type": "stream",
     "text": [
      "REDInet_Predicted_Class\n",
      "1    8159\n",
      "0     186\n",
      "Name: count, dtype: int64\n",
      "RDDpred_Predicted_Class\n",
      "1    7777\n",
      "0     568\n",
      "Name: count, dtype: int64\n",
      "REDInet_Predicted_Class\n",
      "1    6603\n",
      "0     128\n",
      "Name: count, dtype: int64\n",
      "RDDpred_Predicted_Class\n",
      "1    6291\n",
      "0     440\n",
      "Name: count, dtype: int64\n",
      "REDInet_Predicted_Class\n",
      "1    5260\n",
      "0      85\n",
      "Name: count, dtype: int64\n",
      "RDDpred_Predicted_Class\n",
      "1    4423\n",
      "0     922\n",
      "Name: count, dtype: int64\n"
     ]
    }
   ],
   "source": [
    "siteslists = []\n",
    "\n",
    "for i in range(3):\n",
    "    \n",
    "    sites = pd.read_table(os.path.join(sitespath, f\"{tables[i][0]}_{tables[i][1]}_bona_fide_sites.tsv\"), usecols=[\"Region\", \"Position\", \"Class\"])\n",
    "    sites.columns = [\"Region\", \"Position\", \"Real_Class\"]\n",
    "    wt = pd.read_table(os.path.join(sitespath, tables[i][0]+\"_predictions.tsv\"), usecols=[\"Region\", \"Position\", \"Strand\", \"Editing_Probability\"]) \n",
    "    sites = sites.merge(wt, how=\"inner\", on=[\"Region\", \"Position\"])\n",
    "    sites.loc[:, \"REDInet_Predicted_Class\"] = sites.loc[:, \"Editing_Probability\"].apply(return_class)\n",
    "    sites = sites.loc[:, [\"Region\", \"Position\", \"Strand\", \"Real_Class\", \"REDInet_Predicted_Class\"]]\n",
    "    sites = sites[sites.loc[:, \"Real_Class\"]==1]\n",
    "    sites = sites.merge(data.loc[:, [\"Region\", \"Position\",\"RDDpred_Predicted_Class\"]], how=\"inner\", on=[\"Region\", \"Position\"])\n",
    "    siteslists.append(sites)\n",
    "\n",
    "for df in siteslists:\n",
    "    print(df.loc[:, \"REDInet_Predicted_Class\"].value_counts())\n",
    "    print(df.loc[:, \"RDDpred_Predicted_Class\"].value_counts())"
   ]
  },
  {
   "cell_type": "code",
   "execution_count": 32,
   "id": "0a40efe2-f53a-443c-a728-c029865bb6be",
   "metadata": {},
   "outputs": [
    {
     "data": {
      "text/html": [
       "<div>\n",
       "<style scoped>\n",
       "    .dataframe tbody tr th:only-of-type {\n",
       "        vertical-align: middle;\n",
       "    }\n",
       "\n",
       "    .dataframe tbody tr th {\n",
       "        vertical-align: top;\n",
       "    }\n",
       "\n",
       "    .dataframe thead th {\n",
       "        text-align: right;\n",
       "    }\n",
       "</style>\n",
       "<table border=\"1\" class=\"dataframe\">\n",
       "  <thead>\n",
       "    <tr style=\"text-align: right;\">\n",
       "      <th></th>\n",
       "      <th>False Negative Rate</th>\n",
       "      <th>Sample</th>\n",
       "      <th>Classifier</th>\n",
       "    </tr>\n",
       "  </thead>\n",
       "  <tbody>\n",
       "    <tr>\n",
       "      <th>0</th>\n",
       "      <td>0.022289</td>\n",
       "      <td>WT1</td>\n",
       "      <td>REDInet</td>\n",
       "    </tr>\n",
       "    <tr>\n",
       "      <th>1</th>\n",
       "      <td>0.015339</td>\n",
       "      <td>WT2</td>\n",
       "      <td>REDInet</td>\n",
       "    </tr>\n",
       "    <tr>\n",
       "      <th>2</th>\n",
       "      <td>0.010186</td>\n",
       "      <td>WT3</td>\n",
       "      <td>REDInet</td>\n",
       "    </tr>\n",
       "    <tr>\n",
       "      <th>3</th>\n",
       "      <td>0.068065</td>\n",
       "      <td>WT1</td>\n",
       "      <td>RDDpred</td>\n",
       "    </tr>\n",
       "    <tr>\n",
       "      <th>4</th>\n",
       "      <td>0.052726</td>\n",
       "      <td>WT2</td>\n",
       "      <td>RDDpred</td>\n",
       "    </tr>\n",
       "    <tr>\n",
       "      <th>5</th>\n",
       "      <td>0.110485</td>\n",
       "      <td>WT3</td>\n",
       "      <td>RDDpred</td>\n",
       "    </tr>\n",
       "  </tbody>\n",
       "</table>\n",
       "</div>"
      ],
      "text/plain": [
       "   False Negative Rate Sample Classifier\n",
       "0             0.022289    WT1    REDInet\n",
       "1             0.015339    WT2    REDInet\n",
       "2             0.010186    WT3    REDInet\n",
       "3             0.068065    WT1    RDDpred\n",
       "4             0.052726    WT2    RDDpred\n",
       "5             0.110485    WT3    RDDpred"
      ]
     },
     "execution_count": 32,
     "metadata": {},
     "output_type": "execute_result"
    }
   ],
   "source": [
    "falsenegativerate = []\n",
    "\n",
    "for i in range(3):\n",
    "    countsredi =  (siteslists[i].loc[:, \"REDInet_Predicted_Class\"].value_counts()/df.shape[0])[0]\n",
    "    falsenegativerate.append([countsredi, f\"WT{i+1}\", \"REDInet\"])\n",
    "    \n",
    "for i in range(3):\n",
    "    countsredi =  (siteslists[i].loc[:, \"RDDpred_Predicted_Class\"].value_counts()/df.shape[0])[0]\n",
    "    falsenegativerate.append([countsredi, f\"WT{i+1}\", \"RDDpred\"])\n",
    "\n",
    "falsenegativerate = pd.DataFrame(falsenegativerate, columns=[\"False Negative Rate\", \"Sample\", \"Classifier\"])\n",
    "\n",
    "falsenegativerate"
   ]
  },
  {
   "cell_type": "code",
   "execution_count": 33,
   "id": "cc7abb69-23aa-45b6-a0dd-be377a721234",
   "metadata": {},
   "outputs": [
    {
     "data": {
      "text/html": [
       "<div>\n",
       "<style scoped>\n",
       "    .dataframe tbody tr th:only-of-type {\n",
       "        vertical-align: middle;\n",
       "    }\n",
       "\n",
       "    .dataframe tbody tr th {\n",
       "        vertical-align: top;\n",
       "    }\n",
       "\n",
       "    .dataframe thead tr th {\n",
       "        text-align: left;\n",
       "    }\n",
       "\n",
       "    .dataframe thead tr:last-of-type th {\n",
       "        text-align: right;\n",
       "    }\n",
       "</style>\n",
       "<table border=\"1\" class=\"dataframe\">\n",
       "  <thead>\n",
       "    <tr>\n",
       "      <th></th>\n",
       "      <th colspan=\"8\" halign=\"left\">False Negative Rate</th>\n",
       "    </tr>\n",
       "    <tr>\n",
       "      <th></th>\n",
       "      <th>count</th>\n",
       "      <th>mean</th>\n",
       "      <th>std</th>\n",
       "      <th>min</th>\n",
       "      <th>25%</th>\n",
       "      <th>50%</th>\n",
       "      <th>75%</th>\n",
       "      <th>max</th>\n",
       "    </tr>\n",
       "    <tr>\n",
       "      <th>Classifier</th>\n",
       "      <th></th>\n",
       "      <th></th>\n",
       "      <th></th>\n",
       "      <th></th>\n",
       "      <th></th>\n",
       "      <th></th>\n",
       "      <th></th>\n",
       "      <th></th>\n",
       "    </tr>\n",
       "  </thead>\n",
       "  <tbody>\n",
       "    <tr>\n",
       "      <th>RDDpred</th>\n",
       "      <td>3.0</td>\n",
       "      <td>0.077092</td>\n",
       "      <td>0.029919</td>\n",
       "      <td>0.052726</td>\n",
       "      <td>0.060395</td>\n",
       "      <td>0.068065</td>\n",
       "      <td>0.089275</td>\n",
       "      <td>0.110485</td>\n",
       "    </tr>\n",
       "    <tr>\n",
       "      <th>REDInet</th>\n",
       "      <td>3.0</td>\n",
       "      <td>0.015938</td>\n",
       "      <td>0.006074</td>\n",
       "      <td>0.010186</td>\n",
       "      <td>0.012762</td>\n",
       "      <td>0.015339</td>\n",
       "      <td>0.018814</td>\n",
       "      <td>0.022289</td>\n",
       "    </tr>\n",
       "  </tbody>\n",
       "</table>\n",
       "</div>"
      ],
      "text/plain": [
       "           False Negative Rate                                          \\\n",
       "                         count      mean       std       min       25%   \n",
       "Classifier                                                               \n",
       "RDDpred                    3.0  0.077092  0.029919  0.052726  0.060395   \n",
       "REDInet                    3.0  0.015938  0.006074  0.010186  0.012762   \n",
       "\n",
       "                                          \n",
       "                 50%       75%       max  \n",
       "Classifier                                \n",
       "RDDpred     0.068065  0.089275  0.110485  \n",
       "REDInet     0.015339  0.018814  0.022289  "
      ]
     },
     "execution_count": 33,
     "metadata": {},
     "output_type": "execute_result"
    }
   ],
   "source": [
    "falsenegativerate.groupby(\"Classifier\").describe()"
   ]
  },
  {
   "cell_type": "code",
   "execution_count": 42,
   "id": "a1d5f70d-d9e9-4f8c-8d9a-a662950bc6b7",
   "metadata": {},
   "outputs": [
    {
     "name": "stderr",
     "output_type": "stream",
     "text": [
      "/tmp/ipykernel_60774/1775615125.py:6: FutureWarning: \n",
      "\n",
      "Passing `palette` without assigning `hue` is deprecated and will be removed in v0.14.0. Assign the `x` variable to `hue` and set `legend=False` for the same effect.\n",
      "\n",
      "  sn.barplot(data=falsenegativerate, y=\"False Negative Rate\", x=\"Classifier\", palette=palette).set_title(\"HEK293T WT-Samples False Negative Rate\")\n"
     ]
    },
    {
     "data": {
      "image/png": "[encoded data removed]",
      "text/plain": [
       "<Figure size 640x480 with 1 Axes>"
      ]
     },
     "metadata": {},
     "output_type": "display_data"
    }
   ],
   "source": [
    "path = \"/lustrehome/pietrolucamazzacuva/filezilla-recas/tissues/independent_datasets/HEK293T\"\n",
    "\n",
    "fig, ax = plt.subplots()\n",
    "\n",
    "palette=[\"lightblue\", \"lightgreen\"]\n",
    "sn.barplot(data=falsenegativerate, y=\"False Negative Rate\", x=\"Classifier\", palette=palette).set_title(\"HEK293T WT-Samples False Negative Rate\")\n",
    "\n",
    "plt.savefig(f\"{path}/REDInet_RDDpred_false_negative_rate_barplot.tiff\", dpi=300)\n",
    "\n",
    "plt.show()"
   ]
  },
  {
   "cell_type": "code",
   "execution_count": null,
   "id": "66d2d8a6-cc25-4625-8a85-3cd1cf020a4a",
   "metadata": {},
   "outputs": [],
   "source": []
  }
 ],
 "metadata": {
  "kernelspec": {
   "display_name": "Python 3 (ipykernel)",
   "language": "python",
   "name": "python3"
  },
  "language_info": {
   "codemirror_mode": {
    "name": "ipython",
    "version": 3
   },
   "file_extension": ".py",
   "mimetype": "text/x-python",
   "name": "python",
   "nbconvert_exporter": "python",
   "pygments_lexer": "ipython3",
   "version": "3.9.19"
  }
 },
 "nbformat": 4,
 "nbformat_minor": 5
}
