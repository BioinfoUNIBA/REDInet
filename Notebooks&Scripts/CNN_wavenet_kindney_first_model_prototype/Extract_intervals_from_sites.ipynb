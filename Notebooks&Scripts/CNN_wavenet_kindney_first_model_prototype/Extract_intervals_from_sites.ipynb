{
 "cells": [
  {
   "cell_type": "code",
   "execution_count": 1,
   "id": "58371dd3-b711-4003-b4f9-a36ab24da1f1",
   "metadata": {},
   "outputs": [],
   "source": [
    "##################\n",
    "###",
    "##################\n",
    "import pysam, os\n",
    "import pandas as pd\n",
    "from glob import glob\n",
    "from tqdm import tqdm\n",
    "from datetime import datetime\n",
    "import numpy as np\n",
    "from sklearn.preprocessing import OneHotEncoder"
   ]
  },
  {
   "cell_type": "code",
   "execution_count": 2,
   "id": "af575df9-293b-4576-9d7f-9f791c400c4b",
   "metadata": {},
   "outputs": [
    {
     "name": "stdout",
     "output_type": "stream",
     "text": [
      "16\n"
     ]
    },
    {
     "data": {
      "text/html": [
       "<div>\n",
       "<style scoped>\n",
       "    .dataframe tbody tr th:only-of-type {\n",
       "        vertical-align: middle;\n",
       "    }\n",
       "\n",
       "    .dataframe tbody tr th {\n",
       "        vertical-align: top;\n",
       "    }\n",
       "\n",
       "    .dataframe thead th {\n",
       "        text-align: right;\n",
       "    }\n",
       "</style>\n",
       "<table border=\"1\" class=\"dataframe\">\n",
       "  <thead>\n",
       "    <tr style=\"text-align: right;\">\n",
       "      <th></th>\n",
       "      <th>Region</th>\n",
       "      <th>Position</th>\n",
       "      <th>Ref</th>\n",
       "      <th>Strand</th>\n",
       "      <th>Cov</th>\n",
       "      <th>Qual</th>\n",
       "      <th>[A,C,G,T]</th>\n",
       "      <th>AllSubs</th>\n",
       "      <th>Freq</th>\n",
       "      <th>gCov</th>\n",
       "      <th>gQual</th>\n",
       "      <th>g[A,C,G,T]</th>\n",
       "      <th>gAllSubs</th>\n",
       "      <th>gFreq</th>\n",
       "      <th>type</th>\n",
       "      <th>sample</th>\n",
       "    </tr>\n",
       "  </thead>\n",
       "  <tbody>\n",
       "    <tr>\n",
       "      <th>0</th>\n",
       "      <td>chr1</td>\n",
       "      <td>887801</td>\n",
       "      <td>A</td>\n",
       "      <td>2</td>\n",
       "      <td>58</td>\n",
       "      <td>38.74</td>\n",
       "      <td>[0, 0, 58, 0]</td>\n",
       "      <td>AG</td>\n",
       "      <td>1.00</td>\n",
       "      <td>42</td>\n",
       "      <td>28.88</td>\n",
       "      <td>[0, 0, 42, 0]</td>\n",
       "      <td>AG</td>\n",
       "      <td>1.0</td>\n",
       "      <td>SNP</td>\n",
       "      <td>SRR1071807</td>\n",
       "    </tr>\n",
       "    <tr>\n",
       "      <th>1</th>\n",
       "      <td>chr1</td>\n",
       "      <td>981931</td>\n",
       "      <td>A</td>\n",
       "      <td>2</td>\n",
       "      <td>56</td>\n",
       "      <td>38.34</td>\n",
       "      <td>[0, 0, 56, 0]</td>\n",
       "      <td>AG</td>\n",
       "      <td>1.00</td>\n",
       "      <td>23</td>\n",
       "      <td>28.61</td>\n",
       "      <td>[0, 0, 23, 0]</td>\n",
       "      <td>AG</td>\n",
       "      <td>1.0</td>\n",
       "      <td>SNP</td>\n",
       "      <td>SRR1071807</td>\n",
       "    </tr>\n",
       "    <tr>\n",
       "      <th>2</th>\n",
       "      <td>chr1</td>\n",
       "      <td>1271175</td>\n",
       "      <td>A</td>\n",
       "      <td>2</td>\n",
       "      <td>135</td>\n",
       "      <td>37.31</td>\n",
       "      <td>[0, 0, 135, 0]</td>\n",
       "      <td>AG</td>\n",
       "      <td>1.00</td>\n",
       "      <td>28</td>\n",
       "      <td>27.36</td>\n",
       "      <td>[0, 0, 28, 0]</td>\n",
       "      <td>AG</td>\n",
       "      <td>1.0</td>\n",
       "      <td>SNP</td>\n",
       "      <td>SRR1071807</td>\n",
       "    </tr>\n",
       "    <tr>\n",
       "      <th>3</th>\n",
       "      <td>chr1</td>\n",
       "      <td>1288345</td>\n",
       "      <td>A</td>\n",
       "      <td>2</td>\n",
       "      <td>246</td>\n",
       "      <td>38.83</td>\n",
       "      <td>[0, 0, 246, 0]</td>\n",
       "      <td>AG</td>\n",
       "      <td>1.00</td>\n",
       "      <td>47</td>\n",
       "      <td>29.02</td>\n",
       "      <td>[0, 0, 47, 0]</td>\n",
       "      <td>AG</td>\n",
       "      <td>1.0</td>\n",
       "      <td>SNP</td>\n",
       "      <td>SRR1071807</td>\n",
       "    </tr>\n",
       "    <tr>\n",
       "      <th>4</th>\n",
       "      <td>chr1</td>\n",
       "      <td>1288823</td>\n",
       "      <td>A</td>\n",
       "      <td>2</td>\n",
       "      <td>136</td>\n",
       "      <td>37.49</td>\n",
       "      <td>[0, 0, 136, 0]</td>\n",
       "      <td>AG</td>\n",
       "      <td>1.00</td>\n",
       "      <td>34</td>\n",
       "      <td>28.09</td>\n",
       "      <td>[0, 0, 34, 0]</td>\n",
       "      <td>AG</td>\n",
       "      <td>1.0</td>\n",
       "      <td>SNP</td>\n",
       "      <td>SRR1071807</td>\n",
       "    </tr>\n",
       "    <tr>\n",
       "      <th>...</th>\n",
       "      <td>...</td>\n",
       "      <td>...</td>\n",
       "      <td>...</td>\n",
       "      <td>...</td>\n",
       "      <td>...</td>\n",
       "      <td>...</td>\n",
       "      <td>...</td>\n",
       "      <td>...</td>\n",
       "      <td>...</td>\n",
       "      <td>...</td>\n",
       "      <td>...</td>\n",
       "      <td>...</td>\n",
       "      <td>...</td>\n",
       "      <td>...</td>\n",
       "      <td>...</td>\n",
       "      <td>...</td>\n",
       "    </tr>\n",
       "    <tr>\n",
       "      <th>1306746</th>\n",
       "      <td>chrY</td>\n",
       "      <td>21869330</td>\n",
       "      <td>A</td>\n",
       "      <td>2</td>\n",
       "      <td>72</td>\n",
       "      <td>37.06</td>\n",
       "      <td>[70, 0, 2, 0]</td>\n",
       "      <td>AG</td>\n",
       "      <td>0.03</td>\n",
       "      <td>21</td>\n",
       "      <td>35.76</td>\n",
       "      <td>[21, 0, 0, 0]</td>\n",
       "      <td>-</td>\n",
       "      <td>0.0</td>\n",
       "      <td>Editing</td>\n",
       "      <td>SRR821356</td>\n",
       "    </tr>\n",
       "    <tr>\n",
       "      <th>1306747</th>\n",
       "      <td>chrY</td>\n",
       "      <td>21869415</td>\n",
       "      <td>A</td>\n",
       "      <td>2</td>\n",
       "      <td>76</td>\n",
       "      <td>37.67</td>\n",
       "      <td>[73, 0, 3, 0]</td>\n",
       "      <td>AG</td>\n",
       "      <td>0.04</td>\n",
       "      <td>15</td>\n",
       "      <td>36.87</td>\n",
       "      <td>[15, 0, 0, 0]</td>\n",
       "      <td>-</td>\n",
       "      <td>0.0</td>\n",
       "      <td>Editing</td>\n",
       "      <td>SRR821356</td>\n",
       "    </tr>\n",
       "    <tr>\n",
       "      <th>1306748</th>\n",
       "      <td>chrY</td>\n",
       "      <td>21869628</td>\n",
       "      <td>A</td>\n",
       "      <td>2</td>\n",
       "      <td>59</td>\n",
       "      <td>36.02</td>\n",
       "      <td>[58, 0, 1, 0]</td>\n",
       "      <td>AG</td>\n",
       "      <td>0.02</td>\n",
       "      <td>16</td>\n",
       "      <td>36.75</td>\n",
       "      <td>[16, 0, 0, 0]</td>\n",
       "      <td>-</td>\n",
       "      <td>0.0</td>\n",
       "      <td>Editing</td>\n",
       "      <td>SRR821356</td>\n",
       "    </tr>\n",
       "    <tr>\n",
       "      <th>1306749</th>\n",
       "      <td>chrY</td>\n",
       "      <td>21870242</td>\n",
       "      <td>A</td>\n",
       "      <td>2</td>\n",
       "      <td>72</td>\n",
       "      <td>36.71</td>\n",
       "      <td>[70, 0, 2, 0]</td>\n",
       "      <td>AG</td>\n",
       "      <td>0.03</td>\n",
       "      <td>21</td>\n",
       "      <td>38.00</td>\n",
       "      <td>[21, 0, 0, 0]</td>\n",
       "      <td>-</td>\n",
       "      <td>0.0</td>\n",
       "      <td>Editing</td>\n",
       "      <td>SRR821356</td>\n",
       "    </tr>\n",
       "    <tr>\n",
       "      <th>1306750</th>\n",
       "      <td>chrY</td>\n",
       "      <td>22741569</td>\n",
       "      <td>A</td>\n",
       "      <td>2</td>\n",
       "      <td>96</td>\n",
       "      <td>37.64</td>\n",
       "      <td>[95, 0, 1, 0]</td>\n",
       "      <td>AG</td>\n",
       "      <td>0.01</td>\n",
       "      <td>17</td>\n",
       "      <td>36.88</td>\n",
       "      <td>[17, 0, 0, 0]</td>\n",
       "      <td>-</td>\n",
       "      <td>0.0</td>\n",
       "      <td>Editing</td>\n",
       "      <td>SRR821356</td>\n",
       "    </tr>\n",
       "  </tbody>\n",
       "</table>\n",
       "<p>1306751 rows × 16 columns</p>\n",
       "</div>"
      ],
      "text/plain": [
       "        Region  Position Ref  Strand  Cov   Qual       [A,C,G,T] AllSubs  \\\n",
       "0         chr1    887801   A       2   58  38.74   [0, 0, 58, 0]      AG   \n",
       "1         chr1    981931   A       2   56  38.34   [0, 0, 56, 0]      AG   \n",
       "2         chr1   1271175   A       2  135  37.31  [0, 0, 135, 0]      AG   \n",
       "3         chr1   1288345   A       2  246  38.83  [0, 0, 246, 0]      AG   \n",
       "4         chr1   1288823   A       2  136  37.49  [0, 0, 136, 0]      AG   \n",
       "...        ...       ...  ..     ...  ...    ...             ...     ...   \n",
       "1306746   chrY  21869330   A       2   72  37.06   [70, 0, 2, 0]      AG   \n",
       "1306747   chrY  21869415   A       2   76  37.67   [73, 0, 3, 0]      AG   \n",
       "1306748   chrY  21869628   A       2   59  36.02   [58, 0, 1, 0]      AG   \n",
       "1306749   chrY  21870242   A       2   72  36.71   [70, 0, 2, 0]      AG   \n",
       "1306750   chrY  22741569   A       2   96  37.64   [95, 0, 1, 0]      AG   \n",
       "\n",
       "         Freq  gCov  gQual     g[A,C,G,T] gAllSubs  gFreq     type      sample  \n",
       "0        1.00    42  28.88  [0, 0, 42, 0]       AG    1.0      SNP  SRR1071807  \n",
       "1        1.00    23  28.61  [0, 0, 23, 0]       AG    1.0      SNP  SRR1071807  \n",
       "2        1.00    28  27.36  [0, 0, 28, 0]       AG    1.0      SNP  SRR1071807  \n",
       "3        1.00    47  29.02  [0, 0, 47, 0]       AG    1.0      SNP  SRR1071807  \n",
       "4        1.00    34  28.09  [0, 0, 34, 0]       AG    1.0      SNP  SRR1071807  \n",
       "...       ...   ...    ...            ...      ...    ...      ...         ...  \n",
       "1306746  0.03    21  35.76  [21, 0, 0, 0]        -    0.0  Editing   SRR821356  \n",
       "1306747  0.04    15  36.87  [15, 0, 0, 0]        -    0.0  Editing   SRR821356  \n",
       "1306748  0.02    16  36.75  [16, 0, 0, 0]        -    0.0  Editing   SRR821356  \n",
       "1306749  0.03    21  38.00  [21, 0, 0, 0]        -    0.0  Editing   SRR821356  \n",
       "1306750  0.01    17  36.88  [17, 0, 0, 0]        -    0.0  Editing   SRR821356  \n",
       "\n",
       "[1306751 rows x 16 columns]"
      ]
     },
     "execution_count": 2,
     "metadata": {},
     "output_type": "execute_result"
    }
   ],
   "source": [
    "# load all sites extracted from kidney\n",
    "columns = [\"Region\", \"Position\", \"Ref\", \"Strand\", \"Cov\", \"Qual\", \"[A,C,G,T]\", \"AllSubs\", \"Freq\", \"gCov\", \"gQual\", \"g[A,C,G,T]\", \"gAllSubs\", \"gFreq\", \"type\", \"sample\"]\n",
    "print(len(columns))\n",
    "df_sites_all = pd.read_table(\"kidney_extracted_pos_neg_sites_rediportal_13112023.tsv\", index_col=0, names=columns, skiprows=1)\n",
    "df_sites_all"
   ]
  },
  {
   "cell_type": "code",
   "execution_count": 3,
   "id": "5b5c4a4e-ae66-477e-9249-8fa6168602e3",
   "metadata": {},
   "outputs": [
    {
     "data": {
      "text/plain": [
       "(31,)"
      ]
     },
     "execution_count": 3,
     "metadata": {},
     "output_type": "execute_result"
    }
   ],
   "source": [
    "# detect number of samples\n",
    "df_sites_all[\"sample\"].value_counts().shape"
   ]
  },
  {
   "cell_type": "code",
   "execution_count": 4,
   "id": "b9330d21-27a7-4ffc-94c9-b5ec7fc2d345",
   "metadata": {},
   "outputs": [
    {
     "name": "stdout",
     "output_type": "stream",
     "text": [
      "\n",
      "########################\n",
      "[2023-11-14 02:56:52.008185] Processing sample: SRR1432650\n",
      "[2023-11-14 02:56:52.046440] Loading reditable with tabix and pysam: /lustre/biomed/epicardi/ncbi/dbGaP-6698/sra/SRR1432650/SRR1432650_dna.txt.gz\n"
     ]
    },
    {
     "name": "stderr",
     "output_type": "stream",
     "text": [
      "100%|██████████| 64134/64134 [03:23<00:00, 314.88it/s]\n"
     ]
    },
    {
     "name": "stdout",
     "output_type": "stream",
     "text": [
      "[2023-11-14 03:00:15.749154] Computation for sample SRR1432650 finished. Elapsed time: 0:03:23.702628\n",
      "[2023-11-14 03:00:15.749259] Total extracted Editing sites: 3654. Total extracted SNPs: 737. Samples processed: 1\n",
      "\n",
      "########################\n",
      "[2023-11-14 03:00:15.749795] Processing sample: SRR1317086\n",
      "[2023-11-14 03:00:15.791549] Loading reditable with tabix and pysam: /lustre/biomed/epicardi/ncbi/dbGaP-6698/sra/SRR1317086/SRR1317086_dna.txt.gz\n"
     ]
    },
    {
     "name": "stderr",
     "output_type": "stream",
     "text": [
      "100%|██████████| 61595/61595 [03:16<00:00, 313.32it/s]\n"
     ]
    },
    {
     "name": "stdout",
     "output_type": "stream",
     "text": [
      "[2023-11-14 03:03:32.405986] Computation for sample SRR1317086 finished. Elapsed time: 0:03:16.614359\n",
      "[2023-11-14 03:03:32.406025] Total extracted Editing sites: 5909. Total extracted SNPs: 1288. Samples processed: 2\n",
      "\n",
      "########################\n",
      "[2023-11-14 03:03:32.407223] Processing sample: SRR1089504\n",
      "[2023-11-14 03:03:32.451430] Loading reditable with tabix and pysam: /lustre/biomed/epicardi/ncbi/dbGaP-6698/sra/SRR1089504/SRR1089504_dna.txt.gz\n"
     ]
    },
    {
     "name": "stderr",
     "output_type": "stream",
     "text": [
      "100%|██████████| 60651/60651 [03:29<00:00, 289.78it/s]\n"
     ]
    },
    {
     "name": "stdout",
     "output_type": "stream",
     "text": [
      "[2023-11-14 03:07:01.776810] Computation for sample SRR1089504 finished. Elapsed time: 0:03:29.325094\n",
      "[2023-11-14 03:07:01.776852] Total extracted Editing sites: 7302. Total extracted SNPs: 1900. Samples processed: 3\n",
      "\n",
      "########################\n",
      "[2023-11-14 03:07:01.777821] Processing sample: SRR1314940\n",
      "[2023-11-14 03:07:01.816643] Loading reditable with tabix and pysam: /lustre/biomed/epicardi/ncbi/dbGaP-6698/sra/SRR1314940/SRR1314940_dna.txt.gz\n"
     ]
    },
    {
     "name": "stderr",
     "output_type": "stream",
     "text": [
      "100%|██████████| 60648/60648 [03:20<00:00, 302.05it/s]\n"
     ]
    },
    {
     "name": "stdout",
     "output_type": "stream",
     "text": [
      "[2023-11-14 03:10:22.646913] Computation for sample SRR1314940 finished. Elapsed time: 0:03:20.830190\n",
      "[2023-11-14 03:10:22.646954] Total extracted Editing sites: 9702. Total extracted SNPs: 2630. Samples processed: 4\n",
      "\n",
      "########################\n",
      "[2023-11-14 03:10:22.647646] Processing sample: SRR1465871\n",
      "[2023-11-14 03:10:22.687762] Loading reditable with tabix and pysam: /lustre/biomed/epicardi/ncbi/dbGaP-6698/sra/SRR1465871/SRR1465871_dna.txt.gz\n"
     ]
    },
    {
     "name": "stderr",
     "output_type": "stream",
     "text": [
      "100%|██████████| 60349/60349 [03:05<00:00, 325.63it/s]\n"
     ]
    },
    {
     "name": "stdout",
     "output_type": "stream",
     "text": [
      "[2023-11-14 03:13:28.045220] Computation for sample SRR1465871 finished. Elapsed time: 0:03:05.357387\n",
      "[2023-11-14 03:13:28.045255] Total extracted Editing sites: 11928. Total extracted SNPs: 3132. Samples processed: 5\n",
      "\n",
      "########################\n",
      "[2023-11-14 03:13:28.045906] Processing sample: SRR1080366\n",
      "[2023-11-14 03:13:28.085113] Loading reditable with tabix and pysam: /lustre/biomed/epicardi/ncbi/dbGaP-6698/sra/SRR1080366/SRR1080366_dna.txt.gz\n"
     ]
    },
    {
     "name": "stderr",
     "output_type": "stream",
     "text": [
      "100%|██████████| 58968/58968 [03:16<00:00, 299.44it/s]\n"
     ]
    },
    {
     "name": "stdout",
     "output_type": "stream",
     "text": [
      "[2023-11-14 03:16:45.042755] Computation for sample SRR1080366 finished. Elapsed time: 0:03:16.957236\n",
      "[2023-11-14 03:16:45.042798] Total extracted Editing sites: 13648. Total extracted SNPs: 3734. Samples processed: 6\n",
      "\n",
      "########################\n",
      "[2023-11-14 03:16:45.043642] Processing sample: SRR1469746\n",
      "[2023-11-14 03:16:45.082080] Loading reditable with tabix and pysam: /lustre/biomed/epicardi/ncbi/dbGaP-6698/sra/SRR1469746/SRR1469746_dna.txt.gz\n"
     ]
    },
    {
     "name": "stderr",
     "output_type": "stream",
     "text": [
      "100%|██████████| 54668/54668 [02:58<00:00, 306.04it/s]\n"
     ]
    },
    {
     "name": "stdout",
     "output_type": "stream",
     "text": [
      "[2023-11-14 03:19:43.742502] Computation for sample SRR1469746 finished. Elapsed time: 0:02:58.660340\n",
      "[2023-11-14 03:19:43.742545] Total extracted Editing sites: 15265. Total extracted SNPs: 4277. Samples processed: 7\n",
      "\n",
      "########################\n",
      "[2023-11-14 03:19:43.743693] Processing sample: SRR1380931\n",
      "[2023-11-14 03:19:43.782567] Loading reditable with tabix and pysam: /lustre/biomed/epicardi/ncbi/dbGaP-6698/sra/SRR1380931/SRR1380931_dna.txt.gz\n"
     ]
    },
    {
     "name": "stderr",
     "output_type": "stream",
     "text": [
      "100%|██████████| 53805/53805 [02:39<00:00, 337.11it/s]\n"
     ]
    },
    {
     "name": "stdout",
     "output_type": "stream",
     "text": [
      "[2023-11-14 03:22:23.416195] Computation for sample SRR1380931 finished. Elapsed time: 0:02:39.633547\n",
      "[2023-11-14 03:22:23.416240] Total extracted Editing sites: 17369. Total extracted SNPs: 4822. Samples processed: 8\n",
      "\n",
      "########################\n",
      "[2023-11-14 03:22:23.416831] Processing sample: SRR810007\n",
      "[2023-11-14 03:22:23.452940] Loading reditable with tabix and pysam: /lustre/biomed/epicardi/ncbi/dbGaP-6698/sra/SRR810007/SRR810007_dna.txt.gz\n"
     ]
    },
    {
     "name": "stderr",
     "output_type": "stream",
     "text": [
      "100%|██████████| 52127/52127 [03:25<00:00, 253.05it/s]\n"
     ]
    },
    {
     "name": "stdout",
     "output_type": "stream",
     "text": [
      "[2023-11-14 03:25:49.474565] Computation for sample SRR810007 finished. Elapsed time: 0:03:26.021185\n",
      "[2023-11-14 03:25:49.474608] Total extracted Editing sites: 20992. Total extracted SNPs: 6006. Samples processed: 9\n",
      "\n",
      "########################\n",
      "[2023-11-14 03:25:49.475155] Processing sample: SRR1329154\n",
      "[2023-11-14 03:25:49.514394] Loading reditable with tabix and pysam: /lustre/biomed/epicardi/ncbi/dbGaP-6698/sra/SRR1329154/SRR1329154_dna.txt.gz\n"
     ]
    },
    {
     "name": "stderr",
     "output_type": "stream",
     "text": [
      "100%|██████████| 50537/50537 [02:33<00:00, 328.48it/s]\n"
     ]
    },
    {
     "name": "stdout",
     "output_type": "stream",
     "text": [
      "[2023-11-14 03:28:23.394344] Computation for sample SRR1329154 finished. Elapsed time: 0:02:33.879519\n",
      "[2023-11-14 03:28:23.394396] Total extracted Editing sites: 22688. Total extracted SNPs: 6441. Samples processed: 10\n",
      "\n",
      "########################\n",
      "[2023-11-14 03:28:23.395065] Processing sample: SRR1435730\n",
      "[2023-11-14 03:28:23.433201] Loading reditable with tabix and pysam: /lustre/biomed/epicardi/ncbi/dbGaP-6698/sra/SRR1435730/SRR1435730_dna.txt.gz\n"
     ]
    },
    {
     "name": "stderr",
     "output_type": "stream",
     "text": [
      "100%|██████████| 49742/49742 [02:37<00:00, 315.00it/s]\n"
     ]
    },
    {
     "name": "stdout",
     "output_type": "stream",
     "text": [
      "[2023-11-14 03:31:01.369800] Computation for sample SRR1435730 finished. Elapsed time: 0:02:37.936527\n",
      "[2023-11-14 03:31:01.370093] Total extracted Editing sites: 24302. Total extracted SNPs: 6965. Samples processed: 11\n",
      "\n",
      "########################\n",
      "[2023-11-14 03:31:01.370846] Processing sample: SRR1445835\n",
      "[2023-11-14 03:31:01.408471] Loading reditable with tabix and pysam: /lustre/biomed/epicardi/ncbi/dbGaP-6698/sra/SRR1445835/SRR1445835_dna.txt.gz\n"
     ]
    },
    {
     "name": "stderr",
     "output_type": "stream",
     "text": [
      "100%|██████████| 47075/47075 [02:34<00:00, 305.46it/s]\n"
     ]
    },
    {
     "name": "stdout",
     "output_type": "stream",
     "text": [
      "[2023-11-14 03:33:35.548582] Computation for sample SRR1445835 finished. Elapsed time: 0:02:34.139835\n",
      "[2023-11-14 03:33:35.548623] Total extracted Editing sites: 25843. Total extracted SNPs: 7388. Samples processed: 12\n",
      "\n",
      "########################\n",
      "[2023-11-14 03:33:35.549264] Processing sample: SRR1452888\n",
      "[2023-11-14 03:33:35.587397] Loading reditable with tabix and pysam: /lustre/biomed/epicardi/ncbi/dbGaP-6698/sra/SRR1452888/SRR1452888_dna.txt.gz\n"
     ]
    },
    {
     "name": "stderr",
     "output_type": "stream",
     "text": [
      "100%|██████████| 46372/46372 [02:31<00:00, 305.68it/s]\n"
     ]
    },
    {
     "name": "stdout",
     "output_type": "stream",
     "text": [
      "[2023-11-14 03:36:07.337105] Computation for sample SRR1452888 finished. Elapsed time: 0:02:31.749355\n",
      "[2023-11-14 03:36:07.337150] Total extracted Editing sites: 27523. Total extracted SNPs: 7903. Samples processed: 13\n",
      "\n",
      "########################\n",
      "[2023-11-14 03:36:07.337857] Processing sample: SRR1447631\n",
      "[2023-11-14 03:36:07.376928] Loading reditable with tabix and pysam: /lustre/biomed/epicardi/ncbi/dbGaP-6698/sra/SRR1447631/SRR1447631_dna.txt.gz\n"
     ]
    },
    {
     "name": "stderr",
     "output_type": "stream",
     "text": [
      "100%|██████████| 46158/46158 [02:16<00:00, 337.43it/s]\n"
     ]
    },
    {
     "name": "stdout",
     "output_type": "stream",
     "text": [
      "[2023-11-14 03:38:24.217617] Computation for sample SRR1447631 finished. Elapsed time: 0:02:16.840614\n",
      "[2023-11-14 03:38:24.217660] Total extracted Editing sites: 28916. Total extracted SNPs: 8391. Samples processed: 14\n",
      "\n",
      "########################\n",
      "[2023-11-14 03:38:24.218912] Processing sample: SRR1325483\n",
      "[2023-11-14 03:38:24.255765] Loading reditable with tabix and pysam: /lustre/biomed/epicardi/ncbi/dbGaP-6698/sra/SRR1325483/SRR1325483_dna.txt.gz\n"
     ]
    },
    {
     "name": "stderr",
     "output_type": "stream",
     "text": [
      "100%|██████████| 42655/42655 [02:10<00:00, 327.48it/s]\n"
     ]
    },
    {
     "name": "stdout",
     "output_type": "stream",
     "text": [
      "[2023-11-14 03:40:34.534439] Computation for sample SRR1325483 finished. Elapsed time: 0:02:10.278596\n",
      "[2023-11-14 03:40:34.534546] Total extracted Editing sites: 30369. Total extracted SNPs: 8723. Samples processed: 15\n",
      "\n",
      "########################\n",
      "[2023-11-14 03:40:34.535501] Processing sample: SRR1328447\n",
      "[2023-11-14 03:40:34.572802] Loading reditable with tabix and pysam: /lustre/biomed/epicardi/ncbi/dbGaP-6698/sra/SRR1328447/SRR1328447_dna.txt.gz\n"
     ]
    },
    {
     "name": "stderr",
     "output_type": "stream",
     "text": [
      "100%|██████████| 41034/41034 [02:04<00:00, 329.81it/s]\n"
     ]
    },
    {
     "name": "stdout",
     "output_type": "stream",
     "text": [
      "[2023-11-14 03:42:39.018742] Computation for sample SRR1328447 finished. Elapsed time: 0:02:04.445766\n",
      "[2023-11-14 03:42:39.018784] Total extracted Editing sites: 31418. Total extracted SNPs: 9143. Samples processed: 16\n",
      "\n",
      "########################\n",
      "[2023-11-14 03:42:39.019377] Processing sample: SRR1340662\n",
      "[2023-11-14 03:42:39.056116] Loading reditable with tabix and pysam: /lustre/biomed/epicardi/ncbi/dbGaP-6698/sra/SRR1340662/SRR1340662_dna.txt.gz\n"
     ]
    },
    {
     "name": "stderr",
     "output_type": "stream",
     "text": [
      "100%|██████████| 40817/40817 [02:03<00:00, 330.14it/s]\n"
     ]
    },
    {
     "name": "stdout",
     "output_type": "stream",
     "text": [
      "[2023-11-14 03:44:42.719943] Computation for sample SRR1340662 finished. Elapsed time: 0:02:03.663755\n",
      "[2023-11-14 03:44:42.719988] Total extracted Editing sites: 32585. Total extracted SNPs: 9588. Samples processed: 17\n",
      "\n",
      "########################\n",
      "[2023-11-14 03:44:42.720574] Processing sample: SRR1456711\n",
      "[2023-11-14 03:44:42.757211] Loading reditable with tabix and pysam: /lustre/biomed/epicardi/ncbi/dbGaP-6698/sra/SRR1456711/SRR1456711_dna.txt.gz\n"
     ]
    },
    {
     "name": "stderr",
     "output_type": "stream",
     "text": [
      "100%|██████████| 40649/40649 [02:09<00:00, 312.92it/s]\n"
     ]
    },
    {
     "name": "stdout",
     "output_type": "stream",
     "text": [
      "[2023-11-14 03:46:52.707960] Computation for sample SRR1456711 finished. Elapsed time: 0:02:09.950680\n",
      "[2023-11-14 03:46:52.708008] Total extracted Editing sites: 34112. Total extracted SNPs: 9957. Samples processed: 18\n",
      "\n",
      "########################\n",
      "[2023-11-14 03:46:52.709071] Processing sample: SRR1468426\n",
      "[2023-11-14 03:46:52.745275] Loading reditable with tabix and pysam: /lustre/biomed/epicardi/ncbi/dbGaP-6698/sra/SRR1468426/SRR1468426_dna.txt.gz\n"
     ]
    },
    {
     "name": "stderr",
     "output_type": "stream",
     "text": [
      "100%|██████████| 39542/39542 [02:04<00:00, 316.46it/s]\n"
     ]
    },
    {
     "name": "stdout",
     "output_type": "stream",
     "text": [
      "[2023-11-14 03:48:57.739245] Computation for sample SRR1468426 finished. Elapsed time: 0:02:04.993568\n",
      "[2023-11-14 03:48:57.739281] Total extracted Editing sites: 35439. Total extracted SNPs: 10345. Samples processed: 19\n",
      "\n",
      "########################\n",
      "[2023-11-14 03:48:57.740004] Processing sample: SRR1377578\n",
      "[2023-11-14 03:48:57.775694] Loading reditable with tabix and pysam: /lustre/biomed/epicardi/ncbi/dbGaP-6698/sra/SRR1377578/SRR1377578_dna.txt.gz\n"
     ]
    },
    {
     "name": "stderr",
     "output_type": "stream",
     "text": [
      "100%|██████████| 39397/39397 [02:03<00:00, 318.50it/s]\n"
     ]
    },
    {
     "name": "stdout",
     "output_type": "stream",
     "text": [
      "[2023-11-14 03:51:01.498191] Computation for sample SRR1377578 finished. Elapsed time: 0:02:03.722219\n",
      "[2023-11-14 03:51:01.498233] Total extracted Editing sites: 36778. Total extracted SNPs: 10709. Samples processed: 20\n",
      "\n",
      "########################\n",
      "[2023-11-14 03:51:01.498833] Processing sample: SRR1105272\n",
      "[2023-11-14 03:51:01.534299] Loading reditable with tabix and pysam: /lustre/biomed/epicardi/ncbi/dbGaP-6698/sra/SRR1105272/SRR1105272_dna.txt.gz\n"
     ]
    },
    {
     "name": "stderr",
     "output_type": "stream",
     "text": [
      "100%|██████████| 36332/36332 [01:49<00:00, 332.87it/s]\n"
     ]
    },
    {
     "name": "stdout",
     "output_type": "stream",
     "text": [
      "[2023-11-14 03:52:50.707736] Computation for sample SRR1105272 finished. Elapsed time: 0:01:49.173357\n",
      "[2023-11-14 03:52:50.707782] Total extracted Editing sites: 37677. Total extracted SNPs: 11135. Samples processed: 21\n",
      "\n",
      "########################\n",
      "[2023-11-14 03:52:50.708639] Processing sample: SRR1500261\n",
      "[2023-11-14 03:52:50.745058] Loading reditable with tabix and pysam: /lustre/biomed/epicardi/ncbi/dbGaP-6698/sra/SRR1500261/SRR1500261_dna.txt.gz\n"
     ]
    },
    {
     "name": "stderr",
     "output_type": "stream",
     "text": [
      "100%|██████████| 36000/36000 [01:44<00:00, 345.48it/s]\n"
     ]
    },
    {
     "name": "stdout",
     "output_type": "stream",
     "text": [
      "[2023-11-14 03:54:34.974465] Computation for sample SRR1500261 finished. Elapsed time: 0:01:44.229118\n",
      "[2023-11-14 03:54:34.974512] Total extracted Editing sites: 38508. Total extracted SNPs: 11588. Samples processed: 22\n",
      "\n",
      "########################\n",
      "[2023-11-14 03:54:34.975114] Processing sample: SRR1362263\n",
      "[2023-11-14 03:54:35.011313] Loading reditable with tabix and pysam: /lustre/biomed/epicardi/ncbi/dbGaP-6698/sra/SRR1362263/SRR1362263_dna.txt.gz\n"
     ]
    },
    {
     "name": "stderr",
     "output_type": "stream",
     "text": [
      "100%|██████████| 34206/34206 [01:40<00:00, 340.08it/s]\n"
     ]
    },
    {
     "name": "stdout",
     "output_type": "stream",
     "text": [
      "[2023-11-14 03:56:15.621291] Computation for sample SRR1362263 finished. Elapsed time: 0:01:40.609901\n",
      "[2023-11-14 03:56:15.621335] Total extracted Editing sites: 39422. Total extracted SNPs: 11917. Samples processed: 23\n",
      "\n",
      "########################\n",
      "[2023-11-14 03:56:15.622671] Processing sample: SRR1071807\n",
      "[2023-11-14 03:56:15.658379] Loading reditable with tabix and pysam: /lustre/biomed/epicardi/ncbi/dbGaP-6698/sra/SRR1071807/SRR1071807_dna.txt.gz\n"
     ]
    },
    {
     "name": "stderr",
     "output_type": "stream",
     "text": [
      "100%|██████████| 32500/32500 [01:34<00:00, 342.53it/s]\n"
     ]
    },
    {
     "name": "stdout",
     "output_type": "stream",
     "text": [
      "[2023-11-14 03:57:50.567693] Computation for sample SRR1071807 finished. Elapsed time: 0:01:34.909048\n",
      "[2023-11-14 03:57:50.567735] Total extracted Editing sites: 40102. Total extracted SNPs: 12277. Samples processed: 24\n",
      "\n",
      "########################\n",
      "[2023-11-14 03:57:50.568774] Processing sample: SRR1490658\n",
      "[2023-11-14 03:57:50.603654] Loading reditable with tabix and pysam: /lustre/biomed/epicardi/ncbi/dbGaP-6698/sra/SRR1490658/SRR1490658_dna.txt.gz\n"
     ]
    },
    {
     "name": "stderr",
     "output_type": "stream",
     "text": [
      "100%|██████████| 29803/29803 [01:26<00:00, 344.29it/s]\n"
     ]
    },
    {
     "name": "stdout",
     "output_type": "stream",
     "text": [
      "[2023-11-14 03:59:17.195706] Computation for sample SRR1490658 finished. Elapsed time: 0:01:26.591682\n",
      "[2023-11-14 03:59:17.195750] Total extracted Editing sites: 40910. Total extracted SNPs: 12594. Samples processed: 25\n",
      "\n",
      "########################\n",
      "[2023-11-14 03:59:17.196923] Processing sample: SRR1085759\n",
      "[2023-11-14 03:59:17.231572] Loading reditable with tabix and pysam: /lustre/biomed/epicardi/ncbi/dbGaP-6698/sra/SRR1085759/SRR1085759_dna.txt.gz\n"
     ]
    },
    {
     "name": "stderr",
     "output_type": "stream",
     "text": [
      "100%|██████████| 26477/26477 [01:23<00:00, 315.71it/s]\n"
     ]
    },
    {
     "name": "stdout",
     "output_type": "stream",
     "text": [
      "[2023-11-14 04:00:41.125430] Computation for sample SRR1085759 finished. Elapsed time: 0:01:23.893782\n",
      "[2023-11-14 04:00:41.125476] Total extracted Editing sites: 41178. Total extracted SNPs: 12927. Samples processed: 26\n",
      "\n",
      "########################\n",
      "[2023-11-14 04:00:41.125983] Processing sample: SRR821356\n",
      "[2023-11-14 04:00:41.158707] Loading reditable with tabix and pysam: /lustre/biomed/epicardi/ncbi/dbGaP-6698/sra/SRR821356/SRR821356_dna.txt.gz\n"
     ]
    },
    {
     "name": "stderr",
     "output_type": "stream",
     "text": [
      "100%|██████████| 25680/25680 [01:34<00:00, 270.93it/s]\n"
     ]
    },
    {
     "name": "stdout",
     "output_type": "stream",
     "text": [
      "[2023-11-14 04:02:15.971147] Computation for sample SRR821356 finished. Elapsed time: 0:01:34.812386\n",
      "[2023-11-14 04:02:15.971188] Total extracted Editing sites: 42449. Total extracted SNPs: 13445. Samples processed: 27\n",
      "\n",
      "########################\n",
      "[2023-11-14 04:02:15.971825] Processing sample: SRR1420649\n",
      "[2023-11-14 04:02:16.004663] Loading reditable with tabix and pysam: /lustre/biomed/epicardi/ncbi/dbGaP-6698/sra/SRR1420649/SRR1420649_dna.txt.gz\n"
     ]
    },
    {
     "name": "stderr",
     "output_type": "stream",
     "text": [
      "100%|██████████| 24372/24372 [01:10<00:00, 346.85it/s]\n"
     ]
    },
    {
     "name": "stdout",
     "output_type": "stream",
     "text": [
      "[2023-11-14 04:03:26.298374] Computation for sample SRR1420649 finished. Elapsed time: 0:01:10.293542\n",
      "[2023-11-14 04:03:26.298420] Total extracted Editing sites: 42839. Total extracted SNPs: 13789. Samples processed: 28\n",
      "\n",
      "########################\n",
      "[2023-11-14 04:03:26.299080] Processing sample: SRR809943\n",
      "[2023-11-14 04:03:26.331135] Loading reditable with tabix and pysam: /lustre/biomed/epicardi/ncbi/dbGaP-6698/sra/SRR809943/SRR809943_dna.txt.gz\n"
     ]
    },
    {
     "name": "stderr",
     "output_type": "stream",
     "text": [
      "100%|██████████| 21992/21992 [00:51<00:00, 426.52it/s]\n"
     ]
    },
    {
     "name": "stdout",
     "output_type": "stream",
     "text": [
      "[2023-11-14 04:04:17.917208] Computation for sample SRR809943 finished. Elapsed time: 0:00:51.585864\n",
      "[2023-11-14 04:04:17.917252] Total extracted Editing sites: 43225. Total extracted SNPs: 14052. Samples processed: 29\n",
      "\n",
      "########################\n",
      "[2023-11-14 04:04:17.917863] Processing sample: SRR1442708\n",
      "[2023-11-14 04:04:17.951060] Loading reditable with tabix and pysam: /lustre/biomed/epicardi/ncbi/dbGaP-6698/sra/SRR1442708/SRR1442708_dna.txt.gz\n"
     ]
    },
    {
     "name": "stderr",
     "output_type": "stream",
     "text": [
      "100%|██████████| 20900/20900 [01:01<00:00, 338.92it/s]\n"
     ]
    },
    {
     "name": "stdout",
     "output_type": "stream",
     "text": [
      "[2023-11-14 04:05:19.641977] Computation for sample SRR1442708 finished. Elapsed time: 0:01:01.690868\n",
      "[2023-11-14 04:05:19.642019] Total extracted Editing sites: 43741. Total extracted SNPs: 14244. Samples processed: 30\n",
      "\n",
      "########################\n",
      "[2023-11-14 04:05:19.642718] Processing sample: SRR1437274\n",
      "[2023-11-14 04:05:19.673383] Loading reditable with tabix and pysam: /lustre/biomed/epicardi/ncbi/dbGaP-6698/sra/SRR1437274/SRR1437274_dna.txt.gz\n"
     ]
    },
    {
     "name": "stderr",
     "output_type": "stream",
     "text": [
      "100%|██████████| 7566/7566 [00:17<00:00, 442.96it/s]"
     ]
    },
    {
     "name": "stdout",
     "output_type": "stream",
     "text": [
      "[2023-11-14 04:05:36.776516] Computation for sample SRR1437274 finished. Elapsed time: 0:00:17.103101\n",
      "[2023-11-14 04:05:36.776552] Total extracted Editing sites: 43898. Total extracted SNPs: 14321. Samples processed: 31\n",
      "[2023-11-14 04:05:36.777352] Computation Finished. Elapsed time 1:08:44.829018\n"
     ]
    },
    {
     "name": "stderr",
     "output_type": "stream",
     "text": [
      "\n"
     ]
    }
   ],
   "source": [
    "# create ohe instance\n",
    "ohe = OneHotEncoder()\n",
    "ohe.fit(np.array([\"A\", \"C\", \"G\", \"T\"]).reshape(-1, 1))\n",
    "\n",
    "features_extracted_filepath = \"kidney_extracted_pos_neg_sites_rediportal_13112023.feature_vectors.tsv\"\n",
    "features_extracted = open(features_extracted_filepath, \"w\")\n",
    "intervals = []\n",
    "total_snps = 0\n",
    "total_editing = 0\n",
    "interval = 101\n",
    "start_time_global = datetime.now()\n",
    "for n,sample in enumerate(df_sites_all[\"sample\"].value_counts().index):\n",
    "    print(f\"\\n########################\\n[{datetime.now()}] Processing sample:\", sample)\n",
    "    df = df_sites_all.query(f\"sample == '{sample}'\")\n",
    "    # mantain only non chrM regions\n",
    "    df = df.query(\"Region != 'chrM'\")\n",
    "    srr_filepath = glob( os.path.join('/lustre/biomed/epicardi/ncbi/dbGaP-6698/sra',sample,sample+'_dna.txt.gz'))[0]\n",
    "    print(f\"[{datetime.now()}] Loading reditable with tabix and pysam:\", srr_filepath)\n",
    "    start_time = datetime.now()\n",
    "    srr = pysam.TabixFile(srr_filepath)\n",
    "    # extract pos examples\n",
    "    with tqdm(total=df.shape[0], position=0, leave=True) as pbar:\n",
    "        for site in df.query(\"type == 'Editing'\").itertuples():\n",
    "            start = site.Position - ((interval-1)/2)\n",
    "            stop = site.Position + ((interval-1)/2)\n",
    "            AGrna = eval(site._7)[2]/sum(eval(site._7))\n",
    "            AGwgs = eval(site._12)[2]/sum(eval(site._12))\n",
    "            srr_interval = []\n",
    "            for s in srr.fetch(site.Region, start-1, stop):\n",
    "                srr_interval.append(s.split(\"\\t\"))\n",
    "            srr_interval = pd.DataFrame(srr_interval, columns=columns[:-2])\n",
    "            # assess wheter interval is of the required length and contains at least 2 AG subs\n",
    "            if srr_interval.shape[0] == interval and srr_interval.AllSubs.value_counts().reset_index()[srr_interval.AllSubs.value_counts().reset_index()[\"index\"].str.contains(\"AG\")].shape[0] >= 2:\n",
    "                intervals.append([site.Region, site.Position, site.Strand, AGrna, AGwgs, site.type, site.sample, start, stop, stop-start + 1, srr_interval.shape[0]])\n",
    "                total_editing += 1\n",
    "                # encode features vector and write to disk\n",
    "                seq = srr_interval.Ref.values.reshape(-1,1)\n",
    "                seq_ohe = ohe.transform(seq).toarray().T\n",
    "                vects_freqs = []\n",
    "                vects = []\n",
    "                for vect in srr_interval[\"[A,C,G,T]\"]:\n",
    "                    vect = np.array(eval(vect))\n",
    "                    cov = sum(vect)\n",
    "                    vect_freqs = vect / cov\n",
    "                    vects_freqs.append(vect_freqs)\n",
    "                    vects.append(vect)\n",
    "                vects_freqs = np.array(vects_freqs).T\n",
    "                vects = np.array(vects).T\n",
    "                site = pd.concat([pd.DataFrame(seq_ohe), pd.DataFrame(vects_freqs)])\n",
    "                # save to disk (append mode)\n",
    "                site.to_csv(features_extracted, mode=\"a\", sep=\"\\t\", header = None, index=None)\n",
    "            pbar.update(1)\n",
    "        # extract neg examples\n",
    "        for site in df.query(\"type == 'SNP'\").itertuples():\n",
    "            start = site.Position - ((interval-1)/2)\n",
    "            stop = site.Position + ((interval-1)/2)\n",
    "            AGrna = eval(site._7)[2]/sum(eval(site._7))\n",
    "            AGwgs = eval(site._12)[2]/sum(eval(site._12))\n",
    "            srr_interval = []\n",
    "            for s in srr.fetch(site.Region, start-1, stop):\n",
    "                srr_interval.append(s.split(\"\\t\"))\n",
    "            srr_interval = pd.DataFrame(srr_interval, columns=columns[:-2])\n",
    "            # assess wheter interval is of the required length\n",
    "            if srr_interval.shape[0] == interval:\n",
    "                intervals.append([site.Region, site.Position, site.Strand, AGrna, AGwgs, site.type, site.sample, start, stop, stop-start + 1, srr_interval.shape[0]])\n",
    "                total_snps += 1\n",
    "                # encode features vector and write to disk\n",
    "                seq = srr_interval.Ref.values.reshape(-1,1)\n",
    "                seq_ohe = ohe.transform(seq).toarray().T\n",
    "                vects_freqs = []\n",
    "                vects = []\n",
    "                for vect in srr_interval[\"[A,C,G,T]\"]:\n",
    "                    vect = np.array(eval(vect))\n",
    "                    cov = sum(vect)\n",
    "                    vect_freqs = vect / cov\n",
    "                    vects_freqs.append(vect_freqs)\n",
    "                    vects.append(vect)\n",
    "                vects_freqs = np.array(vects_freqs).T\n",
    "                vects = np.array(vects).T\n",
    "                site = pd.concat([pd.DataFrame(seq_ohe), pd.DataFrame(vects_freqs)])\n",
    "                # save to disk (append mode)\n",
    "                site.to_csv(features_extracted, mode=\"a\", sep=\"\\t\", header = None, index=None)\n",
    "            pbar.update(1)\n",
    "        print(f\"[{datetime.now()}] Computation for sample {sample} finished. Elapsed time: {datetime.now()-start_time}\")\n",
    "        print(f\"[{datetime.now()}] Total extracted Editing sites: {total_editing}. Total extracted SNPs: {total_snps}. Samples processed: {n+1}\")\n",
    "stop_time_global = datetime.now()\n",
    "print(f\"[{datetime.now()}] Computation Finished. Elapsed time {stop_time_global-start_time_global}\")\n",
    "features_extracted.close()"
   ]
  },
  {
   "cell_type": "code",
   "execution_count": 5,
   "id": "15b9cd54-fbe1-4bde-b669-e7ff947294d4",
   "metadata": {},
   "outputs": [
    {
     "data": {
      "text/html": [
       "<div>\n",
       "<style scoped>\n",
       "    .dataframe tbody tr th:only-of-type {\n",
       "        vertical-align: middle;\n",
       "    }\n",
       "\n",
       "    .dataframe tbody tr th {\n",
       "        vertical-align: top;\n",
       "    }\n",
       "\n",
       "    .dataframe thead th {\n",
       "        text-align: right;\n",
       "    }\n",
       "</style>\n",
       "<table border=\"1\" class=\"dataframe\">\n",
       "  <thead>\n",
       "    <tr style=\"text-align: right;\">\n",
       "      <th></th>\n",
       "      <th>Region</th>\n",
       "      <th>Position</th>\n",
       "      <th>Strand</th>\n",
       "      <th>AGrna</th>\n",
       "      <th>AGwgs</th>\n",
       "      <th>Type</th>\n",
       "      <th>SRR</th>\n",
       "      <th>Start</th>\n",
       "      <th>Stop</th>\n",
       "      <th>DeltaStartStop</th>\n",
       "      <th>TabixIntervalLen</th>\n",
       "    </tr>\n",
       "  </thead>\n",
       "  <tbody>\n",
       "    <tr>\n",
       "      <th>0</th>\n",
       "      <td>chr1</td>\n",
       "      <td>880977</td>\n",
       "      <td>2</td>\n",
       "      <td>0.010676</td>\n",
       "      <td>0.000000</td>\n",
       "      <td>Editing</td>\n",
       "      <td>SRR1432650</td>\n",
       "      <td>880927.0</td>\n",
       "      <td>881027.0</td>\n",
       "      <td>101.0</td>\n",
       "      <td>101</td>\n",
       "    </tr>\n",
       "    <tr>\n",
       "      <th>1</th>\n",
       "      <td>chr1</td>\n",
       "      <td>934686</td>\n",
       "      <td>2</td>\n",
       "      <td>0.018868</td>\n",
       "      <td>0.000000</td>\n",
       "      <td>Editing</td>\n",
       "      <td>SRR1432650</td>\n",
       "      <td>934636.0</td>\n",
       "      <td>934736.0</td>\n",
       "      <td>101.0</td>\n",
       "      <td>101</td>\n",
       "    </tr>\n",
       "    <tr>\n",
       "      <th>2</th>\n",
       "      <td>chr1</td>\n",
       "      <td>934696</td>\n",
       "      <td>2</td>\n",
       "      <td>0.017241</td>\n",
       "      <td>0.000000</td>\n",
       "      <td>Editing</td>\n",
       "      <td>SRR1432650</td>\n",
       "      <td>934646.0</td>\n",
       "      <td>934746.0</td>\n",
       "      <td>101.0</td>\n",
       "      <td>101</td>\n",
       "    </tr>\n",
       "    <tr>\n",
       "      <th>3</th>\n",
       "      <td>chr1</td>\n",
       "      <td>934723</td>\n",
       "      <td>2</td>\n",
       "      <td>0.010870</td>\n",
       "      <td>0.000000</td>\n",
       "      <td>Editing</td>\n",
       "      <td>SRR1432650</td>\n",
       "      <td>934673.0</td>\n",
       "      <td>934773.0</td>\n",
       "      <td>101.0</td>\n",
       "      <td>101</td>\n",
       "    </tr>\n",
       "    <tr>\n",
       "      <th>4</th>\n",
       "      <td>chr1</td>\n",
       "      <td>991238</td>\n",
       "      <td>2</td>\n",
       "      <td>0.010319</td>\n",
       "      <td>0.000000</td>\n",
       "      <td>Editing</td>\n",
       "      <td>SRR1432650</td>\n",
       "      <td>991188.0</td>\n",
       "      <td>991288.0</td>\n",
       "      <td>101.0</td>\n",
       "      <td>101</td>\n",
       "    </tr>\n",
       "    <tr>\n",
       "      <th>...</th>\n",
       "      <td>...</td>\n",
       "      <td>...</td>\n",
       "      <td>...</td>\n",
       "      <td>...</td>\n",
       "      <td>...</td>\n",
       "      <td>...</td>\n",
       "      <td>...</td>\n",
       "      <td>...</td>\n",
       "      <td>...</td>\n",
       "      <td>...</td>\n",
       "      <td>...</td>\n",
       "    </tr>\n",
       "    <tr>\n",
       "      <th>58214</th>\n",
       "      <td>chr22</td>\n",
       "      <td>24936970</td>\n",
       "      <td>2</td>\n",
       "      <td>0.477273</td>\n",
       "      <td>0.482143</td>\n",
       "      <td>SNP</td>\n",
       "      <td>SRR1437274</td>\n",
       "      <td>24936920.0</td>\n",
       "      <td>24937020.0</td>\n",
       "      <td>101.0</td>\n",
       "      <td>101</td>\n",
       "    </tr>\n",
       "    <tr>\n",
       "      <th>58215</th>\n",
       "      <td>chr22</td>\n",
       "      <td>24938908</td>\n",
       "      <td>2</td>\n",
       "      <td>0.476923</td>\n",
       "      <td>0.500000</td>\n",
       "      <td>SNP</td>\n",
       "      <td>SRR1437274</td>\n",
       "      <td>24938858.0</td>\n",
       "      <td>24938958.0</td>\n",
       "      <td>101.0</td>\n",
       "      <td>101</td>\n",
       "    </tr>\n",
       "    <tr>\n",
       "      <th>58216</th>\n",
       "      <td>chrX</td>\n",
       "      <td>43604841</td>\n",
       "      <td>2</td>\n",
       "      <td>1.000000</td>\n",
       "      <td>1.000000</td>\n",
       "      <td>SNP</td>\n",
       "      <td>SRR1437274</td>\n",
       "      <td>43604791.0</td>\n",
       "      <td>43604891.0</td>\n",
       "      <td>101.0</td>\n",
       "      <td>101</td>\n",
       "    </tr>\n",
       "    <tr>\n",
       "      <th>58217</th>\n",
       "      <td>chrX</td>\n",
       "      <td>153629155</td>\n",
       "      <td>2</td>\n",
       "      <td>1.000000</td>\n",
       "      <td>1.000000</td>\n",
       "      <td>SNP</td>\n",
       "      <td>SRR1437274</td>\n",
       "      <td>153629105.0</td>\n",
       "      <td>153629205.0</td>\n",
       "      <td>101.0</td>\n",
       "      <td>101</td>\n",
       "    </tr>\n",
       "    <tr>\n",
       "      <th>58218</th>\n",
       "      <td>chrY</td>\n",
       "      <td>21154569</td>\n",
       "      <td>2</td>\n",
       "      <td>0.993007</td>\n",
       "      <td>1.000000</td>\n",
       "      <td>SNP</td>\n",
       "      <td>SRR1437274</td>\n",
       "      <td>21154519.0</td>\n",
       "      <td>21154619.0</td>\n",
       "      <td>101.0</td>\n",
       "      <td>101</td>\n",
       "    </tr>\n",
       "  </tbody>\n",
       "</table>\n",
       "<p>58219 rows × 11 columns</p>\n",
       "</div>"
      ],
      "text/plain": [
       "      Region   Position  Strand     AGrna     AGwgs     Type         SRR  \\\n",
       "0       chr1     880977       2  0.010676  0.000000  Editing  SRR1432650   \n",
       "1       chr1     934686       2  0.018868  0.000000  Editing  SRR1432650   \n",
       "2       chr1     934696       2  0.017241  0.000000  Editing  SRR1432650   \n",
       "3       chr1     934723       2  0.010870  0.000000  Editing  SRR1432650   \n",
       "4       chr1     991238       2  0.010319  0.000000  Editing  SRR1432650   \n",
       "...      ...        ...     ...       ...       ...      ...         ...   \n",
       "58214  chr22   24936970       2  0.477273  0.482143      SNP  SRR1437274   \n",
       "58215  chr22   24938908       2  0.476923  0.500000      SNP  SRR1437274   \n",
       "58216   chrX   43604841       2  1.000000  1.000000      SNP  SRR1437274   \n",
       "58217   chrX  153629155       2  1.000000  1.000000      SNP  SRR1437274   \n",
       "58218   chrY   21154569       2  0.993007  1.000000      SNP  SRR1437274   \n",
       "\n",
       "             Start         Stop  DeltaStartStop  TabixIntervalLen  \n",
       "0         880927.0     881027.0           101.0               101  \n",
       "1         934636.0     934736.0           101.0               101  \n",
       "2         934646.0     934746.0           101.0               101  \n",
       "3         934673.0     934773.0           101.0               101  \n",
       "4         991188.0     991288.0           101.0               101  \n",
       "...            ...          ...             ...               ...  \n",
       "58214   24936920.0   24937020.0           101.0               101  \n",
       "58215   24938858.0   24938958.0           101.0               101  \n",
       "58216   43604791.0   43604891.0           101.0               101  \n",
       "58217  153629105.0  153629205.0           101.0               101  \n",
       "58218   21154519.0   21154619.0           101.0               101  \n",
       "\n",
       "[58219 rows x 11 columns]"
      ]
     },
     "execution_count": 5,
     "metadata": {},
     "output_type": "execute_result"
    }
   ],
   "source": [
    "intervals = pd.DataFrame(intervals, columns=[\"Region\", \"Position\", \"Strand\", \"AGrna\", \"AGwgs\", \"Type\", \"SRR\", \"Start\", \"Stop\", \"DeltaStartStop\", \"TabixIntervalLen\"])\n",
    "intervals"
   ]
  },
  {
   "cell_type": "code",
   "execution_count": 6,
   "id": "f7e6b23b-52f6-4c9e-8690-6df10a80826b",
   "metadata": {},
   "outputs": [
    {
     "name": "stdout",
     "output_type": "stream",
     "text": [
      "465752\n"
     ]
    }
   ],
   "source": [
    "!cat kidney_extracted_pos_neg_sites_rediportal_13112023.feature_vectors.tsv | wc -l"
   ]
  },
  {
   "cell_type": "code",
   "execution_count": 7,
   "id": "1f65adb1-0611-49a3-8193-d82f7ebe968c",
   "metadata": {},
   "outputs": [],
   "source": [
    "# save intervals as response variable and metadata\n",
    "intervals.to_csv(\"kidney_extracted_pos_neg_sites_rediportal_13112023.feature_vectors.metadata.tsv\", sep=\"\\t\", index=None)"
   ]
  },
  {
   "cell_type": "code",
   "execution_count": 8,
   "id": "e9b51c3e-b2d5-418a-b30a-d45c22d2579f",
   "metadata": {},
   "outputs": [
    {
     "name": "stdout",
     "output_type": "stream",
     "text": [
      "Region\tPosition\tStrand\tAGrna\tAGwgs\tType\tSRR\tStart\tStop\tDeltaStartStop\tTabixIntervalLen\n",
      "chr1\t880977\t2\t0.010676156583629894\t0.0\tEditing\tSRR1432650\t880927.0\t881027.0\t101.0\t101\n",
      "chr1\t934686\t2\t0.018867924528301886\t0.0\tEditing\tSRR1432650\t934636.0\t934736.0\t101.0\t101\n",
      "chr1\t934696\t2\t0.017241379310344827\t0.0\tEditing\tSRR1432650\t934646.0\t934746.0\t101.0\t101\n",
      "chr1\t934723\t2\t0.010869565217391304\t0.0\tEditing\tSRR1432650\t934673.0\t934773.0\t101.0\t101\n",
      "chr1\t991238\t2\t0.010318949343339587\t0.0\tEditing\tSRR1432650\t991188.0\t991288.0\t101.0\t101\n",
      "chr1\t1191495\t2\t0.0205761316872428\t0.0\tEditing\tSRR1432650\t1191445.0\t1191545.0\t101.0\t101\n",
      "chr1\t1248165\t2\t0.024691358024691357\t0.0\tEditing\tSRR1432650\t1248115.0\t1248215.0\t101.0\t101\n",
      "chr1\t1288523\t2\t0.01171875\t0.0\tEditing\tSRR1432650\t1288473.0\t1288573.0\t101.0\t101\n",
      "chr1\t1309144\t2\t0.035211267605633804\t0.0\tEditing\tSRR1432650\t1309094.0\t1309194.0\t101.0\t101\n",
      "cat: write error: Broken pipe\n"
     ]
    }
   ],
   "source": [
    "!cat kidney_extracted_pos_neg_sites_rediportal_13112023.feature_vectors.metadata.tsv | head"
   ]
  },
  {
   "cell_type": "code",
   "execution_count": 9,
   "id": "4a52cdca-0e90-4d70-afdc-2d2c7ede9645",
   "metadata": {},
   "outputs": [
    {
     "name": "stdout",
     "output_type": "stream",
     "text": [
      "58220\n"
     ]
    }
   ],
   "source": [
    "!cat kidney_extracted_pos_neg_sites_rediportal_13112023.feature_vectors.metadata.tsv | wc -l"
   ]
  },
  {
   "cell_type": "code",
   "execution_count": 10,
   "id": "18f32c5b-201e-482f-8bc4-36244b6fdd30",
   "metadata": {},
   "outputs": [
    {
     "data": {
      "text/plain": [
       "Editing    43898\n",
       "SNP        14321\n",
       "Name: Type, dtype: int64"
      ]
     },
     "execution_count": 10,
     "metadata": {},
     "output_type": "execute_result"
    }
   ],
   "source": [
    "intervals[\"Type\"].value_counts()"
   ]
  },
  {
   "cell_type": "code",
   "execution_count": 15,
   "id": "d9dc4b4c-9640-49cc-8abc-952cca86e8fb",
   "metadata": {},
   "outputs": [
    {
     "data": {
      "text/html": [
       "<div>\n",
       "<style scoped>\n",
       "    .dataframe tbody tr th:only-of-type {\n",
       "        vertical-align: middle;\n",
       "    }\n",
       "\n",
       "    .dataframe tbody tr th {\n",
       "        vertical-align: top;\n",
       "    }\n",
       "\n",
       "    .dataframe thead th {\n",
       "        text-align: right;\n",
       "    }\n",
       "</style>\n",
       "<table border=\"1\" class=\"dataframe\">\n",
       "  <thead>\n",
       "    <tr style=\"text-align: right;\">\n",
       "      <th></th>\n",
       "      <th>Type</th>\n",
       "      <th>Editing</th>\n",
       "      <th>SNP</th>\n",
       "    </tr>\n",
       "  </thead>\n",
       "  <tbody>\n",
       "    <tr>\n",
       "      <th rowspan=\"8\" valign=\"top\">AGrna</th>\n",
       "      <th>count</th>\n",
       "      <td>43898.000000</td>\n",
       "      <td>14321.000000</td>\n",
       "    </tr>\n",
       "    <tr>\n",
       "      <th>mean</th>\n",
       "      <td>0.026781</td>\n",
       "      <td>0.914030</td>\n",
       "    </tr>\n",
       "    <tr>\n",
       "      <th>std</th>\n",
       "      <td>0.056509</td>\n",
       "      <td>0.187875</td>\n",
       "    </tr>\n",
       "    <tr>\n",
       "      <th>min</th>\n",
       "      <td>0.010000</td>\n",
       "      <td>0.380000</td>\n",
       "    </tr>\n",
       "    <tr>\n",
       "      <th>25%</th>\n",
       "      <td>0.011858</td>\n",
       "      <td>0.994318</td>\n",
       "    </tr>\n",
       "    <tr>\n",
       "      <th>50%</th>\n",
       "      <td>0.014749</td>\n",
       "      <td>1.000000</td>\n",
       "    </tr>\n",
       "    <tr>\n",
       "      <th>75%</th>\n",
       "      <td>0.020408</td>\n",
       "      <td>1.000000</td>\n",
       "    </tr>\n",
       "    <tr>\n",
       "      <th>max</th>\n",
       "      <td>1.000000</td>\n",
       "      <td>1.000000</td>\n",
       "    </tr>\n",
       "    <tr>\n",
       "      <th rowspan=\"8\" valign=\"top\">AGwgs</th>\n",
       "      <th>count</th>\n",
       "      <td>43898.000000</td>\n",
       "      <td>14321.000000</td>\n",
       "    </tr>\n",
       "    <tr>\n",
       "      <th>mean</th>\n",
       "      <td>0.000000</td>\n",
       "      <td>0.914845</td>\n",
       "    </tr>\n",
       "    <tr>\n",
       "      <th>std</th>\n",
       "      <td>0.000000</td>\n",
       "      <td>0.187742</td>\n",
       "    </tr>\n",
       "    <tr>\n",
       "      <th>min</th>\n",
       "      <td>0.000000</td>\n",
       "      <td>0.400000</td>\n",
       "    </tr>\n",
       "    <tr>\n",
       "      <th>25%</th>\n",
       "      <td>0.000000</td>\n",
       "      <td>1.000000</td>\n",
       "    </tr>\n",
       "    <tr>\n",
       "      <th>50%</th>\n",
       "      <td>0.000000</td>\n",
       "      <td>1.000000</td>\n",
       "    </tr>\n",
       "    <tr>\n",
       "      <th>75%</th>\n",
       "      <td>0.000000</td>\n",
       "      <td>1.000000</td>\n",
       "    </tr>\n",
       "    <tr>\n",
       "      <th>max</th>\n",
       "      <td>0.000000</td>\n",
       "      <td>1.000000</td>\n",
       "    </tr>\n",
       "  </tbody>\n",
       "</table>\n",
       "</div>"
      ],
      "text/plain": [
       "Type              Editing           SNP\n",
       "AGrna count  43898.000000  14321.000000\n",
       "      mean       0.026781      0.914030\n",
       "      std        0.056509      0.187875\n",
       "      min        0.010000      0.380000\n",
       "      25%        0.011858      0.994318\n",
       "      50%        0.014749      1.000000\n",
       "      75%        0.020408      1.000000\n",
       "      max        1.000000      1.000000\n",
       "AGwgs count  43898.000000  14321.000000\n",
       "      mean       0.000000      0.914845\n",
       "      std        0.000000      0.187742\n",
       "      min        0.000000      0.400000\n",
       "      25%        0.000000      1.000000\n",
       "      50%        0.000000      1.000000\n",
       "      75%        0.000000      1.000000\n",
       "      max        0.000000      1.000000"
      ]
     },
     "execution_count": 15,
     "metadata": {},
     "output_type": "execute_result"
    }
   ],
   "source": [
    "intervals.groupby(\"Type\").describe()[[\"AGrna\", \"AGwgs\"]].T"
   ]
  },
  {
   "cell_type": "code",
   "execution_count": 16,
   "id": "1c8a2078-0e10-4018-846e-453762f7eb32",
   "metadata": {},
   "outputs": [
    {
     "data": {
      "text/plain": [
       "58219.0"
      ]
     },
     "execution_count": 16,
     "metadata": {},
     "output_type": "execute_result"
    }
   ],
   "source": [
    "43898 + 14321"
   ]
  },
  {
   "cell_type": "code",
   "execution_count": null,
   "id": "e76e731e-ca84-416f-9b75-65af6c0f6221",
   "metadata": {},
   "outputs": [],
   "source": [
    "# load features\n",
    "feat = pd.read_table()"
   ]
  }
 ],
 "metadata": {
  "kernelspec": {
   "display_name": "Python 3 (ipykernel)",
   "language": "python",
   "name": "python3"
  },
  "language_info": {
   "codemirror_mode": {
    "name": "ipython",
    "version": 3
   },
   "file_extension": ".py",
   "mimetype": "text/x-python",
   "name": "python",
   "nbconvert_exporter": "python",
   "pygments_lexer": "ipython3",
   "version": "3.8.13"
  }
 },
 "nbformat": 4,
 "nbformat_minor": 5
}
