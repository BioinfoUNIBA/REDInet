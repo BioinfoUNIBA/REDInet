{
 "cells": [
  {
   "cell_type": "code",
   "execution_count": 1,
   "id": "9f623e6b-c4b1-4fb0-ab38-84eed7342e74",
   "metadata": {},
   "outputs": [],
   "source": [
    "##################\n",
    "### Author: Adriano Fonzino. email: adriano.fonzino@uniba.it Date: 11/2023\n",
    "##################\n",
    "\n",
    "# import basic modules\n",
    "import os, sys, pysam, gzip\n",
    "import numpy as np\n",
    "import pandas as pd\n",
    "from datetime import datetime\n",
    "import seaborn as sn\n",
    "from tensorflow.python.platform.tf_logging import warn\n",
    "from preprocessing_functions import from_2_to_3_dimensions\n",
    "import matplotlib.pyplot as plt\n",
    "from sklearn.model_selection import train_test_split\n",
    "from sklearn.metrics import accuracy_score, confusion_matrix, classification_report\n",
    "import tensorflow as tf\n",
    "import keras\n",
    "from sklearn.preprocessing import OneHotEncoder\n",
    "from tqdm import tqdm"
   ]
  },
  {
   "cell_type": "code",
   "execution_count": 2,
   "id": "6f4955af-8ec1-44a9-a9a4-c8a34f2d0a2c",
   "metadata": {},
   "outputs": [
    {
     "name": "stdout",
     "output_type": "stream",
     "text": [
      "[2023-11-14 18:13:40.516524] Loading model from: /lustre/bio_running/A_to_I_Pietro/model_test_2023/src/kidney_dataset/cnn_wavenet_14112023/model_WaveNet_small_log_preprocessing14_11_2023_15_01_48.h5\n"
     ]
    },
    {
     "name": "stderr",
     "output_type": "stream",
     "text": [
      "2023-11-14 18:13:40.675659: I tensorflow/core/platform/cpu_feature_guard.cc:151] This TensorFlow binary is optimized with oneAPI Deep Neural Network Library (oneDNN) to use the following CPU instructions in performance-critical operations:  AVX2 FMA\n",
      "To enable them in other operations, rebuild TensorFlow with the appropriate compiler flags.\n",
      "2023-11-14 18:13:41.236649: I tensorflow/core/common_runtime/gpu/gpu_device.cc:1525] Created device /job:localhost/replica:0/task:0/device:GPU:0 with 38263 MB memory:  -> device: 0, name: NVIDIA A100-PCIE-40GB, pci bus id: 0000:81:00.0, compute capability: 8.0\n"
     ]
    },
    {
     "name": "stdout",
     "output_type": "stream",
     "text": [
      "\tSites evaluated: 0\n",
      "\tSites evaluated: 150000000\n",
      "\tSites evaluated: 200000000\n",
      "\tSites evaluated: 250000000\n",
      "\tSites evaluated: 300000000\n",
      "\tSites evaluated: 350000000\n",
      "\tSites evaluated: 400000000\n",
      "\tSites evaluated: 450000000\n",
      "\tSites evaluated: 500000000\n",
      "Total evaluated rows: 519011879\n",
      "Total extracted Candidates Editing sites for current sample: 37110\n",
      "[2023-11-14 18:24:24.761122] Extraction of Editing Candidates finished for current sample. Elapsed time: 0:10:42.876991.\n"
     ]
    }
   ],
   "source": [
    "# define inputs (hek ADAR-KO for development purposes)\n",
    "reditable_filepath = \"/lustre/bio_running/A_to_I_Pietro/model_test_2023/hek_adar_samples/SRR5564268.ADAR1_KO/DnaRna_854894021/outTable_854894021.gz\"\n",
    "model_filepath = \"/lustre/bio_running/A_to_I_Pietro/model_test_2023/src/kidney_dataset/cnn_wavenet_14112023/model_WaveNet_small_log_preprocessing14_11_2023_15_01_48.h5\"\n",
    "output_table_prefix_filepath = reditable_filepath\n",
    "cov_threshold = 50\n",
    "AGfreq_threshold = 0.01\n",
    "interval = 101\n",
    "\n",
    "#### START ####\n",
    "# load the model\n",
    "print(f\"[{datetime.now()}] Loading model from:\", model_filepath)\n",
    "model = tf.keras.models.load_model(model_filepath)\n",
    "\n",
    "starttime = datetime.now()\n",
    "\n",
    "editing = []\n",
    "# open reditools table (compressed and indexed via tabix)\n",
    "with gzip.open(reditable_filepath) as redi:\n",
    "    for c,l in enumerate(redi):\n",
    "        line = l.decode(\"utf-8\").rstrip().split(\"\\t\")\n",
    "        if line[2] == \"A\":\n",
    "            if line[4] != \"-\":\n",
    "                if int(line[4]) >= cov_threshold:\n",
    "                    if \"AG\" in line[7]:    \n",
    "                        AG_rna = eval(line[6])[2]/sum(eval(line[6]))\n",
    "                        if AG_rna >= AGfreq_threshold:\n",
    "                            editing.append(line)\n",
    "        if c % 50000000 == 0:\n",
    "            print(f\"\\tSites evaluated: {c}\")\n",
    "print(\"Total evaluated rows:\", c)\n",
    "editing = pd.DataFrame(editing)\n",
    "print(\"Total extracted Candidates Editing sites for current sample:\", editing.shape[0])\n",
    "stoptime = datetime.now()\n",
    "print(f\"[{datetime.now()}] Extraction of Editing Candidates finished for current sample. Elapsed time: {stoptime-starttime}.\")"
   ]
  },
  {
   "cell_type": "code",
   "execution_count": 3,
   "id": "99cd4be2-67e3-4aee-97f4-5034d6b37731",
   "metadata": {},
   "outputs": [
    {
     "name": "stdout",
     "output_type": "stream",
     "text": [
      "\n",
      "           Region Position Ref Strand Cov   Qual       [A,C,G,T] AllSubs  \\\n",
      "0            chrX   200841   A      1  88  35.55   [87, 0, 1, 0]      AG   \n",
      "1            chrX   200848   A      1  81  36.65   [79, 1, 1, 0]   AG AC   \n",
      "2            chrX   216920   A      1  69  40.29   [68, 0, 1, 0]      AG   \n",
      "3            chrX   217745   A      1  58  39.17   [57, 0, 1, 0]      AG   \n",
      "4            chrX   217747   A      1  59  38.56   [58, 0, 1, 0]      AG   \n",
      "...           ...      ...  ..    ...  ..    ...             ...     ...   \n",
      "37105  GL000191.1    40326   A      0  59  34.92   [58, 0, 1, 0]      AG   \n",
      "37106  GL000191.1    45476   A      0  88  35.27   [87, 0, 1, 0]      AG   \n",
      "37107  GL000191.1    47652   A      0  55  36.00   [54, 0, 1, 0]      AG   \n",
      "37108  GL000218.1    47386   A      0  52  37.67  [26, 0, 26, 0]      AG   \n",
      "37109  GL000218.1    47972   A      0  53  36.38   [52, 0, 1, 0]      AG   \n",
      "\n",
      "       Freq gCov gQual g[A,C,G,T] gAllSubs gFreq  \n",
      "0      0.01    -     -          -        -     -  \n",
      "1      0.01    -     -          -        -     -  \n",
      "2      0.01    -     -          -        -     -  \n",
      "3      0.02    -     -          -        -     -  \n",
      "4      0.02    -     -          -        -     -  \n",
      "...     ...  ...   ...        ...      ...   ...  \n",
      "37105  0.02    -     -          -        -     -  \n",
      "37106  0.01    -     -          -        -     -  \n",
      "37107  0.02    -     -          -        -     -  \n",
      "37108  0.50    -     -          -        -     -  \n",
      "37109  0.02    -     -          -        -     -  \n",
      "\n",
      "[37110 rows x 14 columns]\n",
      "[2023-11-14 18:24:24.775834] Starting extraction of intervals.\n"
     ]
    }
   ],
   "source": [
    "columns = [\"Region\", \"Position\", \"Ref\", \"Strand\", \"Cov\", \"Qual\", \"[A,C,G,T]\", \"AllSubs\", \"Freq\", \"gCov\", \"gQual\", \"g[A,C,G,T]\", \"gAllSubs\", \"gFreq\"]\n",
    "editing.columns = columns\n",
    "print()\n",
    "print(editing)\n",
    "print(f\"[{datetime.now()}] Starting extraction of intervals.\")"
   ]
  },
  {
   "cell_type": "code",
   "execution_count": 4,
   "id": "ba0444e7-7d3c-4fcc-bdef-3c43eba95aeb",
   "metadata": {},
   "outputs": [
    {
     "name": "stdout",
     "output_type": "stream",
     "text": [
      "[2023-11-14 18:24:24.871601] Loading reditable with tabix and pysam: /lustre/bio_running/A_to_I_Pietro/model_test_2023/hek_adar_samples/SRR5564268.ADAR1_KO/DnaRna_854894021/outTable_854894021.gz\n"
     ]
    },
    {
     "name": "stderr",
     "output_type": "stream",
     "text": [
      "100%|██████████| 37089/37089 [02:11<00:00, 282.70it/s]\n"
     ]
    },
    {
     "name": "stdout",
     "output_type": "stream",
     "text": [
      "[2023-11-14 18:26:36.179201] Total extracted Editing sites: 16491.\n",
      "[2023-11-14 18:26:36.179930] Features Extraction Finished. Elapsed time 0:02:11.324633.\n"
     ]
    }
   ],
   "source": [
    "# create ohe instance\n",
    "ohe = OneHotEncoder()\n",
    "ohe.fit(np.array([\"A\", \"C\", \"G\", \"T\"]).reshape(-1, 1))\n",
    "\n",
    "intervals = []\n",
    "starttime_preds = datetime.now()\n",
    "total_extracted = 0\n",
    "\n",
    "features_extracted_filepath = output_table_prefix_filepath + \".feature_vectors.tsv\"\n",
    "features_extracted = open(features_extracted_filepath, \"w\")\n",
    "# mantain only non chrM regions\n",
    "df = editing.query(\"Region != 'chrM'\")\n",
    "print(f\"[{datetime.now()}] Loading reditable with tabix and pysam:\", reditable_filepath)\n",
    "start_time = datetime.now()\n",
    "srr = pysam.TabixFile(reditable_filepath)\n",
    "# extract pos examples\n",
    "with tqdm(total=df.shape[0], position=0, leave=True) as pbar:\n",
    "    for site in df.itertuples():\n",
    "        start = int(site.Position) - ((interval-1)/2)\n",
    "        stop = int(site.Position) + ((interval-1)/2)\n",
    "        AGrna = eval(site._7)[2]/sum(eval(site._7))\n",
    "        srr_interval = []\n",
    "        for s in srr.fetch(site.Region, start-1, stop):\n",
    "            srr_interval.append(s.split(\"\\t\"))\n",
    "        srr_interval = pd.DataFrame(srr_interval, columns=columns)\n",
    "        # assess wheter interval is of the required length and if the entire interval is on the same strand\n",
    "        if srr_interval.shape[0] == interval and len(set(srr_interval[\"Strand\"])) == 1:\n",
    "            intervals.append([site.Region, site.Position, site.Strand, AGrna, start, stop, stop-start + 1, srr_interval.shape[0]])\n",
    "            total_extracted += 1\n",
    "            strand = site.Strand\n",
    "            # encode features vector and write to disk\n",
    "            seq = srr_interval.Ref.values.reshape(-1,1)\n",
    "            seq_ohe = ohe.transform(seq).toarray().T\n",
    "            vects_freqs = []\n",
    "            strands = []\n",
    "            vects = []\n",
    "            for vect in srr_interval[\"[A,C,G,T]\"]:\n",
    "                vect = np.array(eval(vect))\n",
    "                cov = sum(vect)\n",
    "                vect_freqs = vect / cov\n",
    "                vects_freqs.append(vect_freqs)\n",
    "                vects.append(vect)\n",
    "            vects_freqs = np.array(vects_freqs).T\n",
    "            vects = np.array(vects).T\n",
    "            site = pd.concat([pd.DataFrame(seq_ohe), pd.DataFrame(vects_freqs)])\n",
    "            if strand == 0: # flip horizontally if it is on reverse strand\n",
    "                site = pd.DataFrame(np.flip(site.values, axis=1))\n",
    "            # save to disk (append mode)\n",
    "            site.to_csv(features_extracted, mode=\"a\", sep=\"\\t\", header = None, index=None)\n",
    "        pbar.update(1)\n",
    "# create dataframe for editing sites candidates with complete intervaal\n",
    "intervals = pd.DataFrame(intervals)\n",
    "print(f\"[{datetime.now()}] Total extracted Editing sites: {total_extracted}.\")\n",
    "stop_time_global = datetime.now()\n",
    "print(f\"[{datetime.now()}] Features Extraction Finished. Elapsed time {datetime.now()-starttime_preds}.\")\n",
    "features_extracted.close()"
   ]
  },
  {
   "cell_type": "code",
   "execution_count": 5,
   "id": "22fce7c6-53aa-457e-9400-0b4847a1bcd3",
   "metadata": {},
   "outputs": [
    {
     "name": "stdout",
     "output_type": "stream",
     "text": [
      "Loading features extracted of editing candidates from: /lustre/bio_running/A_to_I_Pietro/model_test_2023/hek_adar_samples/SRR5564268.ADAR1_KO/DnaRna_854894021/outTable_854894021.gz.feature_vectors.tsv\n"
     ]
    },
    {
     "data": {
      "text/plain": [
       "(16491, 101, 8)"
      ]
     },
     "execution_count": 5,
     "metadata": {},
     "output_type": "execute_result"
    }
   ],
   "source": [
    "# start prediction step on the extracted features\n",
    "# loading features and preprocess these for inference\n",
    "###--- START LOADING OF DATA ---###\n",
    "print(f\"Loading features extracted of editing candidates from: {features_extracted_filepath}\")\n",
    "X = pd.read_table(features_extracted_filepath, header=None)\n",
    "# trasform into 3d tensor from series of 2d table from tsv input file\n",
    "X_3d = from_2_to_3_dimensions(X, 8)\n",
    "# create a log2 version on pseudo count to zoom differences among edited and non edited sites\n",
    "# create a tuple containing min and max log2 expected values useful to normalize frequency features\n",
    "log_range = (-13.28771238, 0.000144262)\n",
    "# go to pseudofrequency\n",
    "X_3d_log2 = X_3d.copy()\n",
    "X_3d_log2[:,:,4:] = np.log2(X_3d_log2[:,:,4:]+0.0001)\n",
    "# normalize log2 preudo-frequencies using log2 boudaries\n",
    "X_3d_log2[:,:,4:] = (X_3d_log2[:,:,4:]-log_range[0]) / (log_range[1] - log_range[0])\n",
    "X_3d_log2.shape"
   ]
  },
  {
   "cell_type": "code",
   "execution_count": 22,
   "id": "1335144d-a5aa-4974-ada4-faf1091109d5",
   "metadata": {},
   "outputs": [
    {
     "data": {
      "text/plain": [
       "array([[3.8079500e-12, 1.0000000e+00],\n",
       "       [7.8228309e-12, 1.0000000e+00],\n",
       "       [4.6355611e-13, 1.0000000e+00],\n",
       "       ...,\n",
       "       [2.3756594e-10, 1.0000000e+00],\n",
       "       [7.2282402e-10, 1.0000000e+00],\n",
       "       [7.6211615e-09, 1.0000000e+00]], dtype=float32)"
      ]
     },
     "execution_count": 22,
     "metadata": {},
     "output_type": "execute_result"
    }
   ],
   "source": [
    "# make prediction\n",
    "y_hat_proba = model.predict(X_3d_log2, batch_size=100)\n",
    "y_hat_proba"
   ]
  },
  {
   "cell_type": "code",
   "execution_count": 23,
   "id": "db436209-bf09-43ea-b552-6e47b4528b53",
   "metadata": {},
   "outputs": [
    {
     "data": {
      "text/plain": [
       "(16491, 2)"
      ]
     },
     "execution_count": 23,
     "metadata": {},
     "output_type": "execute_result"
    }
   ],
   "source": [
    "y_hat_proba.shape"
   ]
  },
  {
   "cell_type": "code",
   "execution_count": 8,
   "id": "6d6d987b-9754-4670-b3a7-ed2b90fdfc21",
   "metadata": {},
   "outputs": [
    {
     "data": {
      "text/plain": [
       "array([1, 1, 1, ..., 1, 1, 1])"
      ]
     },
     "execution_count": 8,
     "metadata": {},
     "output_type": "execute_result"
    }
   ],
   "source": [
    "# produce output vector (0 --> SNP; 1 --> Editing)\n",
    "y_hat = np.array([np.argmax(i) for i in y_hat_proba])\n",
    "y_hat"
   ]
  },
  {
   "cell_type": "code",
   "execution_count": 9,
   "id": "f1b5d2fa-5448-4351-a5a9-4d3d1d65e512",
   "metadata": {},
   "outputs": [
    {
     "data": {
      "text/plain": [
       "(array([0, 1]), array([ 1362, 15129]))"
      ]
     },
     "execution_count": 9,
     "metadata": {},
     "output_type": "execute_result"
    }
   ],
   "source": [
    "np.unique(y_hat, return_counts=True)"
   ]
  },
  {
   "cell_type": "code",
   "execution_count": 10,
   "id": "d0b55f8f-ddce-4eb6-8900-cdbb9db64013",
   "metadata": {},
   "outputs": [
    {
     "name": "stdout",
     "output_type": "stream",
     "text": [
      "[2023-11-14 18:26:42.366315] Predictions concluded. File saved to: /lustre/bio_running/A_to_I_Pietro/model_test_2023/hek_adar_samples/SRR5564268.ADAR1_KO/DnaRna_854894021/outTable_854894021.gz.predictions.tsv\n",
      "[2023-11-14 18:26:42.366461] Computation Finished. Total Elapsed time: 0:13:00.482399\n"
     ]
    },
    {
     "data": {
      "text/html": [
       "<div>\n",
       "<style scoped>\n",
       "    .dataframe tbody tr th:only-of-type {\n",
       "        vertical-align: middle;\n",
       "    }\n",
       "\n",
       "    .dataframe tbody tr th {\n",
       "        vertical-align: top;\n",
       "    }\n",
       "\n",
       "    .dataframe thead th {\n",
       "        text-align: right;\n",
       "    }\n",
       "</style>\n",
       "<table border=\"1\" class=\"dataframe\">\n",
       "  <thead>\n",
       "    <tr style=\"text-align: right;\">\n",
       "      <th></th>\n",
       "      <th>region</th>\n",
       "      <th>position</th>\n",
       "      <th>Strand</th>\n",
       "      <th>FreqAGrna</th>\n",
       "      <th>start</th>\n",
       "      <th>stop</th>\n",
       "      <th>int_len</th>\n",
       "      <th>TabixLen</th>\n",
       "      <th>snp_proba</th>\n",
       "      <th>ed_proba</th>\n",
       "      <th>y_hat</th>\n",
       "    </tr>\n",
       "  </thead>\n",
       "  <tbody>\n",
       "    <tr>\n",
       "      <th>0</th>\n",
       "      <td>chrX</td>\n",
       "      <td>216920</td>\n",
       "      <td>1</td>\n",
       "      <td>0.014493</td>\n",
       "      <td>216870.0</td>\n",
       "      <td>216970.0</td>\n",
       "      <td>101.0</td>\n",
       "      <td>101</td>\n",
       "      <td>3.807950e-12</td>\n",
       "      <td>1.0</td>\n",
       "      <td>1</td>\n",
       "    </tr>\n",
       "    <tr>\n",
       "      <th>1</th>\n",
       "      <td>chrX</td>\n",
       "      <td>218046</td>\n",
       "      <td>1</td>\n",
       "      <td>0.018868</td>\n",
       "      <td>217996.0</td>\n",
       "      <td>218096.0</td>\n",
       "      <td>101.0</td>\n",
       "      <td>101</td>\n",
       "      <td>7.822831e-12</td>\n",
       "      <td>1.0</td>\n",
       "      <td>1</td>\n",
       "    </tr>\n",
       "    <tr>\n",
       "      <th>2</th>\n",
       "      <td>chrX</td>\n",
       "      <td>219831</td>\n",
       "      <td>1</td>\n",
       "      <td>0.012987</td>\n",
       "      <td>219781.0</td>\n",
       "      <td>219881.0</td>\n",
       "      <td>101.0</td>\n",
       "      <td>101</td>\n",
       "      <td>4.635561e-13</td>\n",
       "      <td>1.0</td>\n",
       "      <td>1</td>\n",
       "    </tr>\n",
       "    <tr>\n",
       "      <th>3</th>\n",
       "      <td>chrX</td>\n",
       "      <td>221414</td>\n",
       "      <td>0</td>\n",
       "      <td>0.020000</td>\n",
       "      <td>221364.0</td>\n",
       "      <td>221464.0</td>\n",
       "      <td>101.0</td>\n",
       "      <td>101</td>\n",
       "      <td>6.269702e-09</td>\n",
       "      <td>1.0</td>\n",
       "      <td>1</td>\n",
       "    </tr>\n",
       "    <tr>\n",
       "      <th>4</th>\n",
       "      <td>chrX</td>\n",
       "      <td>230871</td>\n",
       "      <td>0</td>\n",
       "      <td>0.018182</td>\n",
       "      <td>230821.0</td>\n",
       "      <td>230921.0</td>\n",
       "      <td>101.0</td>\n",
       "      <td>101</td>\n",
       "      <td>4.301846e-10</td>\n",
       "      <td>1.0</td>\n",
       "      <td>1</td>\n",
       "    </tr>\n",
       "    <tr>\n",
       "      <th>...</th>\n",
       "      <td>...</td>\n",
       "      <td>...</td>\n",
       "      <td>...</td>\n",
       "      <td>...</td>\n",
       "      <td>...</td>\n",
       "      <td>...</td>\n",
       "      <td>...</td>\n",
       "      <td>...</td>\n",
       "      <td>...</td>\n",
       "      <td>...</td>\n",
       "      <td>...</td>\n",
       "    </tr>\n",
       "    <tr>\n",
       "      <th>16486</th>\n",
       "      <td>GL000191.1</td>\n",
       "      <td>39822</td>\n",
       "      <td>0</td>\n",
       "      <td>0.017241</td>\n",
       "      <td>39772.0</td>\n",
       "      <td>39872.0</td>\n",
       "      <td>101.0</td>\n",
       "      <td>101</td>\n",
       "      <td>4.266872e-13</td>\n",
       "      <td>1.0</td>\n",
       "      <td>1</td>\n",
       "    </tr>\n",
       "    <tr>\n",
       "      <th>16487</th>\n",
       "      <td>GL000191.1</td>\n",
       "      <td>39832</td>\n",
       "      <td>0</td>\n",
       "      <td>0.018182</td>\n",
       "      <td>39782.0</td>\n",
       "      <td>39882.0</td>\n",
       "      <td>101.0</td>\n",
       "      <td>101</td>\n",
       "      <td>2.612257e-11</td>\n",
       "      <td>1.0</td>\n",
       "      <td>1</td>\n",
       "    </tr>\n",
       "    <tr>\n",
       "      <th>16488</th>\n",
       "      <td>GL000191.1</td>\n",
       "      <td>40279</td>\n",
       "      <td>0</td>\n",
       "      <td>0.013699</td>\n",
       "      <td>40229.0</td>\n",
       "      <td>40329.0</td>\n",
       "      <td>101.0</td>\n",
       "      <td>101</td>\n",
       "      <td>2.375659e-10</td>\n",
       "      <td>1.0</td>\n",
       "      <td>1</td>\n",
       "    </tr>\n",
       "    <tr>\n",
       "      <th>16489</th>\n",
       "      <td>GL000191.1</td>\n",
       "      <td>47652</td>\n",
       "      <td>0</td>\n",
       "      <td>0.018182</td>\n",
       "      <td>47602.0</td>\n",
       "      <td>47702.0</td>\n",
       "      <td>101.0</td>\n",
       "      <td>101</td>\n",
       "      <td>7.228240e-10</td>\n",
       "      <td>1.0</td>\n",
       "      <td>1</td>\n",
       "    </tr>\n",
       "    <tr>\n",
       "      <th>16490</th>\n",
       "      <td>GL000218.1</td>\n",
       "      <td>47972</td>\n",
       "      <td>0</td>\n",
       "      <td>0.018868</td>\n",
       "      <td>47922.0</td>\n",
       "      <td>48022.0</td>\n",
       "      <td>101.0</td>\n",
       "      <td>101</td>\n",
       "      <td>7.621161e-09</td>\n",
       "      <td>1.0</td>\n",
       "      <td>1</td>\n",
       "    </tr>\n",
       "  </tbody>\n",
       "</table>\n",
       "<p>16491 rows × 11 columns</p>\n",
       "</div>"
      ],
      "text/plain": [
       "           region position Strand  FreqAGrna     start      stop  int_len  \\\n",
       "0            chrX   216920      1   0.014493  216870.0  216970.0    101.0   \n",
       "1            chrX   218046      1   0.018868  217996.0  218096.0    101.0   \n",
       "2            chrX   219831      1   0.012987  219781.0  219881.0    101.0   \n",
       "3            chrX   221414      0   0.020000  221364.0  221464.0    101.0   \n",
       "4            chrX   230871      0   0.018182  230821.0  230921.0    101.0   \n",
       "...           ...      ...    ...        ...       ...       ...      ...   \n",
       "16486  GL000191.1    39822      0   0.017241   39772.0   39872.0    101.0   \n",
       "16487  GL000191.1    39832      0   0.018182   39782.0   39882.0    101.0   \n",
       "16488  GL000191.1    40279      0   0.013699   40229.0   40329.0    101.0   \n",
       "16489  GL000191.1    47652      0   0.018182   47602.0   47702.0    101.0   \n",
       "16490  GL000218.1    47972      0   0.018868   47922.0   48022.0    101.0   \n",
       "\n",
       "       TabixLen     snp_proba  ed_proba  y_hat  \n",
       "0           101  3.807950e-12       1.0      1  \n",
       "1           101  7.822831e-12       1.0      1  \n",
       "2           101  4.635561e-13       1.0      1  \n",
       "3           101  6.269702e-09       1.0      1  \n",
       "4           101  4.301846e-10       1.0      1  \n",
       "...         ...           ...       ...    ...  \n",
       "16486       101  4.266872e-13       1.0      1  \n",
       "16487       101  2.612257e-11       1.0      1  \n",
       "16488       101  2.375659e-10       1.0      1  \n",
       "16489       101  7.228240e-10       1.0      1  \n",
       "16490       101  7.621161e-09       1.0      1  \n",
       "\n",
       "[16491 rows x 11 columns]"
      ]
     },
     "execution_count": 10,
     "metadata": {},
     "output_type": "execute_result"
    }
   ],
   "source": [
    "# append to intervals\n",
    "intervals[\"snp_proba\"] = y_hat_proba[:,0]\n",
    "intervals[\"ed_proba\"] = y_hat_proba[:,1]\n",
    "intervals[\"y_hat\"] = y_hat\n",
    "intervals.columns = [\"region\", \"position\", \"Strand\", \"FreqAGrna\", \"start\", \"stop\", \"int_len\", \"TabixLen\", \"snp_proba\", \"ed_proba\", \"y_hat\"]\n",
    "# save to disk\n",
    "intervals.to_csv(output_table_prefix_filepath+\".predictions.tsv\", sep=\"\\t\", index=None)\n",
    "print(f\"[{datetime.now()}] Predictions concluded. File saved to: {output_table_prefix_filepath+'.predictions.tsv'}\")\n",
    "print(f\"[{datetime.now()}] Computation Finished. Total Elapsed time: {datetime.now()-starttime}\")\n",
    "intervals"
   ]
  },
  {
   "cell_type": "code",
   "execution_count": 11,
   "id": "3ccb024d-7526-415e-b04d-aa7e41a42dee",
   "metadata": {},
   "outputs": [
    {
     "data": {
      "text/plain": [
       "<AxesSubplot:xlabel='y_hat', ylabel='FreqAGrna'>"
      ]
     },
     "execution_count": 11,
     "metadata": {},
     "output_type": "execute_result"
    },
    {
     "data": {
      "image/png": "[encoded data removed]",
      "text/plain": [
       "<Figure size 432x288 with 1 Axes>"
      ]
     },
     "metadata": {
      "needs_background": "light"
     },
     "output_type": "display_data"
    }
   ],
   "source": [
    "sn.boxenplot(data=intervals, x=\"y_hat\", y=\"FreqAGrna\")"
   ]
  },
  {
   "cell_type": "code",
   "execution_count": 12,
   "id": "a54e7032-ccc8-4106-82d0-760636492971",
   "metadata": {},
   "outputs": [
    {
     "data": {
      "text/plain": [
       "<AxesSubplot:xlabel='y_hat', ylabel='FreqAGrna'>"
      ]
     },
     "execution_count": 12,
     "metadata": {},
     "output_type": "execute_result"
    },
    {
     "data": {
      "image/png": "[encoded data removed]",
      "text/plain": [
       "<Figure size 432x288 with 1 Axes>"
      ]
     },
     "metadata": {
      "needs_background": "light"
     },
     "output_type": "display_data"
    }
   ],
   "source": [
    "sn.boxenplot(data=intervals, x=\"y_hat\", y=\"FreqAGrna\", hue=\"Strand\")"
   ]
  }
 ],
 "metadata": {
  "kernelspec": {
   "display_name": "Python 3 (ipykernel)",
   "language": "python",
   "name": "python3"
  },
  "language_info": {
   "codemirror_mode": {
    "name": "ipython",
    "version": 3
   },
   "file_extension": ".py",
   "mimetype": "text/x-python",
   "name": "python",
   "nbconvert_exporter": "python",
   "pygments_lexer": "ipython3",
   "version": "3.8.13"
  }
 },
 "nbformat": 4,
 "nbformat_minor": 5
}
