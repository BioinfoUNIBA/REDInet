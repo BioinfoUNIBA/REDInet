{
 "cells": [
  {
   "cell_type": "code",
   "execution_count": 1,
   "id": "e64b16dd",
   "metadata": {},
   "outputs": [],
   "source": [
    "import pandas as pd\n",
    "import numpy as np\n",
    "import os, sys, pysam, gzip, subprocess, shlex, time\n",
    "from datetime import datetime\n",
    "from tqdm import tqdm\n",
    "from multiprocessing import Pool\n",
    "from sklearn.preprocessing import OneHotEncoder\n",
    "\n",
    "def give_inputs(cell_line):\n",
    "    \n",
    "    files_path = \"/lustrehome/pietrolucamazzacuva/filezilla-recas/tissues/independent_datasets/{}\".format(cells)\n",
    "    \n",
    "    if cell_line == \"HEK293T\":  \n",
    "        samples = [[\"outTable_599710609\", \"outTable_905657585\", \"outTable_530905096\"],\n",
    "                   [\"outTable_572868058\", \"outTable_364841872\", \"outTable_814257267\"],\n",
    "                   [\"outTable_110067244\", \"outTable_597789462\", \"outTable_208420383\"]]\n",
    "\n",
    "        rmsk_file = \"rmsk_hg38.sorted.gtf.gz\"\n",
    "        refseq_file = \"hg38.110.ncbiRefSeq.sorted.gtf.gz\"\n",
    "\n",
    "    elif cell_line == \"HEK\":\n",
    "        samples = [[\"outTable_724242056\", \"outTable_816573740\"],\n",
    "                   [\"outTable_580067564\", \"outTable_718392497\"],\n",
    "                   [\"outTable_181728208\", \"outTable_854894021\"]]\n",
    "        rmsk_file = \"rmsk.sorted.gtf.gz\"\n",
    "        refseq_file = \"hg19.ncbiRefSeq.sorted.gtf.gz\"\n",
    "\n",
    "    elif cell_line == \"a549\":\n",
    "        samples = [[\"outTable_192318299\", \"outTable_436061877\"],\n",
    "                   [\"outTable_535670354\", \"outTable_396704193\"],\n",
    "                   [\"outTable_773331943\", \"outTable_302610513\"]]\n",
    "        rmsk_file = \"rmsk.sorted.gtf.gz\"\n",
    "        refseq_file = \"hg19.ncbiRefSeq.sorted.gtf.gz\"\n",
    "\n",
    "    else:\n",
    "        samples= [[\"outTable_853538513\", \"outTable_921089530\"]]\n",
    "        rmsk_file = \"rmsk.sorted.gtf.gz\"\n",
    "        refseq_file = \"hg19.ncbiRefSeq.sorted.gtf.gz\"\n",
    "    \n",
    "    return samples, rmsk_file, refseq_file, files_path\n",
    "\n",
    "def extraction(prefix,  AG_min, AGfreq_threshold, cov_threshold, interval):    \n",
    "    \n",
    "    starttime = datetime.now()\n",
    "\n",
    "    editing = []\n",
    "                                         \n",
    "    with gzip.open(prefix+\".gz\") as redi:\n",
    "        for c,l in enumerate(redi):\n",
    "            line = l.decode(\"utf-8\").rstrip().split(\"\\t\")\n",
    "            if line[0].find(\"chr\") != -1:\n",
    "                if line[2] == \"A\":\n",
    "                    if line[4] != \"-\":\n",
    "                        if int(line[4]) >= cov_threshold:\n",
    "                            if \"AG\" in line[7]:    \n",
    "                                AG_rna = eval(line[6])[2]/sum(eval(line[6]))\n",
    "                                if AG_rna >= AGfreq_threshold:\n",
    "                                    if eval(line[6])[2] >= AG_min:\n",
    "                                        editing.append(line)\n",
    "\n",
    "            if c % 50000000 == 0:\n",
    "                print(f\"\\tSites evaluated: {c}\")\n",
    "    print(\"Total evaluated rows:\", c)\n",
    "    editing = pd.DataFrame(editing)\n",
    "    stoptime = datetime.now()\n",
    "    print(f\"[{datetime.now()}] Extraction of Editing Candidates finished for current sample. Elapsed time: {stoptime-starttime}.\")\n",
    "    columns = [\"Region\", \"Position\", \"Ref\", \"Strand\", \"Cov\", \"Qual\", \"Bases\", \"AllSubs\", \"Freq\", \"gCov\", \"gQual\", \"g[A,C,G,T]\", \"gAllSubs\", \"gFreq\"]\n",
    "    editing.columns = columns\n",
    "    print(f\"[{datetime.now()}] Starting extraction of intervals.\")\n",
    "    ohe = OneHotEncoder()\n",
    "    ohe.fit(np.array([\"A\", \"C\", \"G\", \"T\"]).reshape(-1, 1))\n",
    "\n",
    "    intervals = []\n",
    "    starttime_preds = datetime.now()\n",
    "    total_extracted = 0\n",
    "    features_extracted_filepath = prefix+ \"_feature_vectors.tsv\"\n",
    "    features_extracted = open(features_extracted_filepath, \"w\")\n",
    "\n",
    "    df = editing.query(\"Region != 'chrM'\")\n",
    "    print(f\"[{datetime.now()}] Loading reditable with tabix and pysam:\", prefix)\n",
    "    start_time = datetime.now()\n",
    "    srr = pysam.TabixFile(prefix+\".gz\")\n",
    "    with tqdm(total=df.shape[0], position=0, leave=True) as pbar:\n",
    "        for site in df.itertuples():\n",
    "            start = int(site.Position) - ((interval-1)/2)\n",
    "            stop = int(site.Position) + ((interval-1)/2)\n",
    "            AGrna = eval(site.Bases)[2]/sum(eval(site.Bases))\n",
    "            srr_interval = []\n",
    "            for s in srr.fetch(site.Region, start-1, stop):\n",
    "                srr_interval.append(s.split(\"\\t\"))\n",
    "            srr_interval = pd.DataFrame(srr_interval, columns=columns)\n",
    "            if srr_interval.shape[0] == interval and len(set(srr_interval[\"Strand\"])) == 1:\n",
    "                intervals.append([site.Region, site.Position, site.Ref, site.Strand, AGrna, site.Bases, start, stop, stop-start + 1, srr_interval.shape[0]])\n",
    "                total_extracted += 1\n",
    "                strand = site.Strand\n",
    "                seq = srr_interval.Ref.values.reshape(-1,1)\n",
    "                seq_ohe = ohe.transform(seq).toarray().T\n",
    "                vects_freqs = []\n",
    "                strands = []\n",
    "                vects = []\n",
    "                for vect in srr_interval[\"Bases\"]:\n",
    "                    vect = np.array(eval(vect))\n",
    "                    cov = sum(vect)\n",
    "                    vect_freqs = vect / cov\n",
    "                    vects_freqs.append(vect_freqs)\n",
    "                    vects.append(vect)\n",
    "                vects_freqs = np.array(vects_freqs).T\n",
    "                vects = np.array(vects).T\n",
    "                encoded_site = pd.concat([pd.DataFrame(seq_ohe), pd.DataFrame(vects_freqs)])\n",
    "                encoded_site.reset_index(drop=True, inplace=True)\n",
    "                if strand == 0: \n",
    "                    encoded_site = pd.DataFrame(np.flip(encoded_site.values, axis=1))\n",
    "                encoded_site.to_csv(features_extracted, mode=\"a\", sep=\"\\t\", header = None, index=None)\n",
    "            pbar.update(1)\n",
    "    intervals = pd.DataFrame(intervals)\n",
    "    stop_time_global = datetime.now()\n",
    "    print(f\"[{datetime.now()}] Features Extraction Finished. Elapsed time {datetime.now()-starttime_preds}.\")\n",
    "    features_extracted.close()\n",
    "    \n",
    "    intervals.columns = [\"Region\", \"Position\", \"RefBase\", \"Strand\", \"FreqAGrna\", \"BasesCounts\", \"Start\", \"Stop\", \"Intlen\", \"TabixLen\"]\n",
    "    intervals.to_csv(prefix + \"_intervals.tsv\", sep=\"\\t\", index=None)\n",
    "    print(f\"[{datetime.now()}] Computation Finished. Total Elapsed time: {datetime.now()-starttime}\")\n",
    "\n",
    "def candidates_bona_fide_extraction(name1, name2, path, cells, AG_min, AGfreq_threshold, cov_threshold, rna_cov_threshold):    \n",
    "\n",
    "    starttime = datetime.now()\n",
    "    sites = []\n",
    "    \n",
    "    wgs = pysam.TabixFile(f\"{path}/{cells}_WGS.gz\")   \n",
    "    inactive = pysam.TabixFile(f\"{path}/{name2}.gz\")\n",
    "    with gzip.open(f\"{path}/{name1}.gz\") as redi:\n",
    "        for c,l in enumerate(redi):\n",
    "            line = l.decode(\"utf-8\").rstrip().split(\"\\t\")\n",
    "            if line[0].find(\"chr\") != -1:\n",
    "                if line[0] != \"chrM\":\n",
    "                    strand = int(line[3])\n",
    "                    if strand != 2:\n",
    "                        if line[2] == \"A\":\n",
    "                            if line[4] != \"-\":\n",
    "                                if int(line[4]) >= rna_cov_threshold:\n",
    "                                    if line[7] == \"AG\":    \n",
    "                                        AG_rna =  float(line[8])  \n",
    "                                        if AG_rna >= AGfreq_threshold:\n",
    "                                            if eval(line[6])[2] >= AG_min:\n",
    "                                                region = line[0]\n",
    "                                                start = int(line[1])-1\n",
    "                                                stop = int(line[1])\n",
    "                                                for ROW_inactive in inactive.fetch(region, start, stop):\n",
    "                                                    row_inactive = ROW_inactive.split(\"\\t\")\n",
    "                                                    if row_inactive[4] != \"-\":\n",
    "                                                        if int(row_inactive[3]) == strand:\n",
    "                                                            if int(row_inactive[4]) >= rna_cov_threshold:\n",
    "                                                                sub_inactive = row_inactive[7]\n",
    "                                                                for ROW_WGS in wgs.fetch(region, start, stop):\n",
    "                                                                    row_wgs = ROW_WGS.split(\"\\t\")\n",
    "                                                                    if row_wgs[9] !=  \"-\":\n",
    "                                                                        if int(row_wgs[3]) == strand:\n",
    "                                                                            if int(row_wgs[9])>=cov_threshold:\n",
    "                                                                                sub_wgs = row_wgs[12]\n",
    "                                                                                if sub_inactive == \"-\":\n",
    "                                                                                    if sub_wgs == \"-\":\n",
    "                                                                                        sites.append([line[0], line[1], 1])\n",
    "                                                                                else:\n",
    "                                                                                    if sub_inactive == \"AG\":\n",
    "                                                                                        inactive_AG = eval(row_inactive[6])[2]\n",
    "                                                                                        if inactive_AG >= AG_min:\n",
    "                                                                                            inactive_freq = float(row_inactive[8]) \n",
    "                                                                                            if inactive_freq >= AGfreq_threshold:\n",
    "                                                                                                if sub_wgs == \"AG\":\n",
    "                                                                                                    sites.append([line[0], line[1], 0])\n",
    "                                                                                                    \n",
    "                                                                                                               \n",
    "            if c % 50000000 == 0:\n",
    "                print(f\"\\tSites evaluated: {c}\")\n",
    "     \n",
    "    sites = pd.DataFrame(sites)\n",
    "    sites.columns = [\"Region\", \"Position\", \"Class\"]\n",
    "    positives = sites[sites.loc[:, \"Class\"]==1].shape[0]\n",
    "    negatives = sites[sites.loc[:, \"Class\"]==0].shape[0]\n",
    "    print(\"Total evaluated rows:\", c)\n",
    "    stoptime = datetime.now()\n",
    "    \n",
    "    print(f\"[{datetime.now()}] Extraction of candidates bonafide sites finished for {name1} {name2} samples. Elapsed time: {stoptime-starttime}.\")\n",
    "    sites.to_csv(f\"{path}/{name1}_{name2}_candidates_bona_fide_sites.tsv\", sep=\"\\t\", index=None)\n",
    "                                                                              \n",
    "def bonafide_identification(path, rmsk, refseq):\n",
    "                           \n",
    "    u_path = \"/lustrehome/pietrolucamazzacuva/filezilla-recas/scripts/utilities\"                                                                            \n",
    "                                                                                 \n",
    "    for file_name in os.listdir(path):\n",
    "        if file_name.find(\"_candidates_bona_fide_sites.tsv\") !=-1:\n",
    "            df = pd.read_csv(os.path.join(path, file_name), sep=\"\\t\")\n",
    "            df.to_csv(os.path.join(path, file_name), sep=\"\\t\", index=None, header=False)\n",
    "            name = file_name.replace(\".tsv\", \"\")\n",
    "            cmd_sh = \"python3 {}/AnnotateTablePython3.py -a {}/{} -n rmsk -i {}/{}.tsv -o {}/{}.out.rmsk -u\".format(u_path, u_path, rmsk, path, name, path, name)\n",
    "            args = shlex.split(cmd_sh)\n",
    "            p = subprocess.Popen(args, env=dict(os.environ, PATH=\"/lustrehome/pietrolucamazzacuva/anaconda3/envs/tensorflow-gpu/bin\"))\n",
    "\n",
    "    time.sleep(300)\n",
    "\n",
    "    for name in os.listdir(path):\n",
    "        if name.find(\"_candidates_bona_fide_sites.out.rmsk\") != -1:\n",
    "            cmd_sh = \"python3 {}/AnnotateTablePython3.py -a {}/{} -i {}/{} -o {}/{}.refseq -u\".format(u_path, u_path, refseq, path, name, path, name)\n",
    "            args = shlex.split(cmd_sh)\n",
    "            p = subprocess.Popen(args, env=dict(os.environ, PATH=\"/lustrehome/pietrolucamazzacuva/anaconda3/envs/tensorflow-gpu/bin\"))\n",
    "\n",
    "    time.sleep(300)\n",
    "\n",
    "    cols = [\"Region\", \"Position\", \"Class\", \"RMSK-Rep\", \"RMSK-Reg\", \"RefSeq-Rep\", \"RefSeq-Reg\"]\n",
    "    for file_name in os.listdir(path):\n",
    "        if file_name.find(\"_candidates_bona_fide_sites.out.rmsk.refseq\") !=-1:\n",
    "            df = pd.read_table(os.path.join(path, file_name), header=None)\n",
    "            name = file_name.replace(\".out.rmsk.refseq\", \"_annoted.tsv\")\n",
    "            df.columns = cols\n",
    "            df.to_csv(os.path.join(path, name), sep=\"\\t\", index=None)\n",
    "\n",
    "    for file_name in os.listdir(path):\n",
    "        if file_name.find(\"candidates_bona_fide_sites_annoted.tsv\") !=-1:\n",
    "            bona_fide = pd.read_csv(os.path.join(path, file_name), sep=\"\\t\")\n",
    "            rep = bona_fide[(bona_fide.iloc[:, 3] != \"-\") & (bona_fide.iloc[:, 4] != \"-\")]\n",
    "            non_rep = bona_fide[(bona_fide.iloc[:, 3] == \"-\") & (bona_fide.iloc[:, 4] == \"-\")]\n",
    "\n",
    "            del bona_fide\n",
    "\n",
    "            non_rep_n = non_rep[non_rep.iloc[:, 2]==0]\n",
    "            non_rep_p = non_rep[non_rep.iloc[:, 2]==1]\n",
    "\n",
    "            del non_rep\n",
    "\n",
    "            non_rep_p = non_rep_p[(non_rep_p.iloc[:, 5] != \"-\") & (non_rep_p.iloc[:, 6] != \"-\")]\n",
    "            bona_fide = pd.concat([rep, non_rep_n, non_rep_p])\n",
    "\n",
    "            del rep, non_rep_n, non_rep_p\n",
    "\n",
    "            name = file_name.replace(\"candidates_bona_fide_sites_annoted.tsv\", \"bona_fide_sites.tsv\")\n",
    "            bona_fide = bona_fide.sort_values([\"Region\", \"Position\"])\n",
    "            bona_fide.to_csv(os.path.join(path, name), sep=\"\\t\", index=None)"
   ]
  },
  {
   "cell_type": "code",
   "execution_count": 2,
   "id": "1bf05b82",
   "metadata": {},
   "outputs": [
    {
     "name": "stdout",
     "output_type": "stream",
     "text": [
      "\tSites evaluated: 0\n",
      "\tSites evaluated: 0\tSites evaluated: 0\tSites evaluated: 0\n",
      "\n",
      "\n",
      "\tSites evaluated: 0\tSites evaluated: 0\n",
      "\n",
      "\tSites evaluated: 50000000\n",
      "\tSites evaluated: 50000000\n",
      "\tSites evaluated: 50000000\n",
      "\tSites evaluated: 50000000\n",
      "\tSites evaluated: 50000000\n",
      "\tSites evaluated: 50000000\n",
      "\tSites evaluated: 100000000\n",
      "\tSites evaluated: 100000000\n",
      "\tSites evaluated: 100000000\n",
      "\tSites evaluated: 100000000\n",
      "\tSites evaluated: 100000000\n",
      "\tSites evaluated: 100000000\n",
      "\tSites evaluated: 150000000\n",
      "\tSites evaluated: 150000000\n",
      "\tSites evaluated: 150000000\n",
      "\tSites evaluated: 150000000\n",
      "\tSites evaluated: 150000000\n",
      "\tSites evaluated: 150000000\n",
      "\tSites evaluated: 200000000\n",
      "\tSites evaluated: 200000000\n",
      "\tSites evaluated: 200000000\n",
      "\tSites evaluated: 200000000\n",
      "\tSites evaluated: 200000000\n",
      "\tSites evaluated: 200000000\n",
      "Total evaluated rows: 216398797\n",
      "[2024-08-12 07:59:07.329477] Extraction of Editing Candidates finished for current sample. Elapsed time: 0:04:30.169493.\n",
      "[2024-08-12 07:59:07.331840] Starting extraction of intervals.\n",
      "[2024-08-12 07:59:07.349730] Loading reditable with tabix and pysam: /lustrehome/pietrolucamazzacuva/filezilla-recas/tissues/independent_datasets/a549/outTable_436061877\n"
     ]
    },
    {
     "name": "stderr",
     "output_type": "stream",
     "text": [
      "100%|██████████| 6631/6631 [00:20<00:00, 323.44it/s]\n"
     ]
    },
    {
     "name": "stdout",
     "output_type": "stream",
     "text": [
      "[2024-08-12 07:59:27.886180] Features Extraction Finished. Elapsed time 0:00:20.549562.\n",
      "[2024-08-12 07:59:27.910228] Computation Finished. Total Elapsed time: 0:04:50.750274\n",
      "Total evaluated rows: 235536788\n",
      "[2024-08-12 07:59:35.856280] Extraction of Editing Candidates finished for current sample. Elapsed time: 0:04:58.692904.\n",
      "[2024-08-12 07:59:35.859263] Starting extraction of intervals.\n",
      "[2024-08-12 07:59:35.883384] Loading reditable with tabix and pysam: /lustrehome/pietrolucamazzacuva/filezilla-recas/tissues/independent_datasets/a549/outTable_535670354\n"
     ]
    },
    {
     "name": "stderr",
     "output_type": "stream",
     "text": [
      "  1%|          | 126/16870 [00:00<00:53, 311.29it/s]"
     ]
    },
    {
     "name": "stdout",
     "output_type": "stream",
     "text": [
      "Total evaluated rows: 236217106\n",
      "[2024-08-12 07:59:36.417003] Extraction of Editing Candidates finished for current sample. Elapsed time: 0:04:59.252981.\n",
      "[2024-08-12 07:59:36.419838] Starting extraction of intervals.\n",
      "[2024-08-12 07:59:36.437291] Loading reditable with tabix and pysam: /lustrehome/pietrolucamazzacuva/filezilla-recas/tissues/independent_datasets/a549/outTable_773331943\n"
     ]
    },
    {
     "name": "stderr",
     "output_type": "stream",
     "text": [
      "  5%|▌         | 792/15698 [00:02<00:40, 369.08it/s]]"
     ]
    },
    {
     "name": "stdout",
     "output_type": "stream",
     "text": [
      "Total evaluated rows: 239780038\n",
      "[2024-08-12 07:59:39.214045] Extraction of Editing Candidates finished for current sample. Elapsed time: 0:05:02.050122.\n",
      "[2024-08-12 07:59:39.217530] Starting extraction of intervals.\n",
      "[2024-08-12 07:59:39.242668] Loading reditable with tabix and pysam: /lustrehome/pietrolucamazzacuva/filezilla-recas/tissues/independent_datasets/a549/outTable_396704193\n"
     ]
    },
    {
     "name": "stderr",
     "output_type": "stream",
     "text": [
      "  9%|▊         | 1347/15698 [00:04<00:43, 331.71it/s]"
     ]
    },
    {
     "name": "stdout",
     "output_type": "stream",
     "text": [
      "Total evaluated rows: 241316303\n"
     ]
    },
    {
     "name": "stderr",
     "output_type": "stream",
     "text": [
      "  6%|▌         | 514/8777 [00:01<00:24, 338.10it/s]"
     ]
    },
    {
     "name": "stdout",
     "output_type": "stream",
     "text": [
      "[2024-08-12 07:59:40.918696] Extraction of Editing Candidates finished for current sample. Elapsed time: 0:05:03.759157.\n",
      "[2024-08-12 07:59:40.921922] Starting extraction of intervals.\n",
      "[2024-08-12 07:59:40.950694] Loading reditable with tabix and pysam: /lustrehome/pietrolucamazzacuva/filezilla-recas/tissues/independent_datasets/a549/outTable_192318299\n"
     ]
    },
    {
     "name": "stderr",
     "output_type": "stream",
     "text": [
      " 13%|█▎        | 2054/15698 [00:06<00:55, 246.11it/s]"
     ]
    },
    {
     "name": "stdout",
     "output_type": "stream",
     "text": [
      "Total evaluated rows: 241233789\n",
      "[2024-08-12 07:59:43.449444] Extraction of Editing Candidates finished for current sample. Elapsed time: 0:05:06.285300.\n",
      "[2024-08-12 07:59:43.451417] Starting extraction of intervals.\n",
      "[2024-08-12 07:59:43.465622] Loading reditable with tabix and pysam: /lustrehome/pietrolucamazzacuva/filezilla-recas/tissues/independent_datasets/a549/outTable_302610513\n"
     ]
    },
    {
     "name": "stderr",
     "output_type": "stream",
     "text": [
      "100%|██████████| 8777/8777 [00:27<00:00, 322.08it/s]]\n"
     ]
    },
    {
     "name": "stdout",
     "output_type": "stream",
     "text": [
      "[2024-08-12 08:00:06.556535] Features Extraction Finished. Elapsed time 0:00:27.334583.\n"
     ]
    },
    {
     "name": "stderr",
     "output_type": "stream",
     "text": [
      " 78%|███████▊  | 7246/9252 [00:23<00:05, 339.95it/s]]"
     ]
    },
    {
     "name": "stdout",
     "output_type": "stream",
     "text": [
      "[2024-08-12 08:00:06.594258] Computation Finished. Total Elapsed time: 0:05:29.430376"
     ]
    },
    {
     "name": "stderr",
     "output_type": "stream",
     "text": [
      " 43%|████▎     | 8111/19055 [00:25<00:34, 318.73it/s]"
     ]
    },
    {
     "name": "stdout",
     "output_type": "stream",
     "text": [
      "\n"
     ]
    },
    {
     "name": "stderr",
     "output_type": "stream",
     "text": [
      " 73%|███████▎  | 11506/15698 [00:35<00:11, 379.43it/s]\n"
     ]
    },
    {
     "name": "stdout",
     "output_type": "stream",
     "text": [
      "[2024-08-12 08:00:12.422075] Features Extraction Finished. Elapsed time 0:00:28.967348.\n"
     ]
    },
    {
     "name": "stderr",
     "output_type": "stream",
     "text": [
      " 53%|█████▎    | 10065/19055 [00:31<00:21, 427.44it/s]"
     ]
    },
    {
     "name": "stdout",
     "output_type": "stream",
     "text": [
      "[2024-08-12 08:00:12.449557] Computation Finished. Total Elapsed time: 0:05:35.285431\n"
     ]
    },
    {
     "name": "stderr",
     "output_type": "stream",
     "text": [
      "100%|██████████| 15698/15698 [00:48<00:00, 324.75it/s]\n"
     ]
    },
    {
     "name": "stdout",
     "output_type": "stream",
     "text": [
      "[2024-08-12 08:00:24.845819] Features Extraction Finished. Elapsed time 0:00:48.423093.\n"
     ]
    },
    {
     "name": "stderr",
     "output_type": "stream",
     "text": [
      " 75%|███████▌  | 14306/19055 [00:43<00:13, 354.37it/s]"
     ]
    },
    {
     "name": "stdout",
     "output_type": "stream",
     "text": [
      "[2024-08-12 08:00:24.891639] Computation Finished. Total Elapsed time: 0:05:47.727654\n"
     ]
    },
    {
     "name": "stderr",
     "output_type": "stream",
     "text": [
      "100%|██████████| 16870/16870 [00:51<00:00, 329.99it/s]\n",
      " 79%|███████▉  | 15071/19055 [00:46<00:11, 340.24it/s]"
     ]
    },
    {
     "name": "stdout",
     "output_type": "stream",
     "text": [
      "[2024-08-12 08:00:27.095515] Features Extraction Finished. Elapsed time 0:00:51.232344.\n",
      "[2024-08-12 08:00:27.138574] Computation Finished. Total Elapsed time: 0:05:49.975239\n"
     ]
    },
    {
     "name": "stderr",
     "output_type": "stream",
     "text": [
      "100%|██████████| 19055/19055 [00:58<00:00, 326.67it/s]\n"
     ]
    },
    {
     "name": "stdout",
     "output_type": "stream",
     "text": [
      "[2024-08-12 08:00:39.410338] Features Extraction Finished. Elapsed time 0:00:58.483835.\n",
      "[2024-08-12 08:00:39.459621] Computation Finished. Total Elapsed time: 0:06:02.300138\n",
      "\tSites evaluated: 0\n",
      "\tSites evaluated: 0\n",
      "\tSites evaluated: 0\n",
      "\tSites evaluated: 50000000\n",
      "\tSites evaluated: 50000000\n",
      "\tSites evaluated: 50000000\n",
      "\tSites evaluated: 100000000\n",
      "\tSites evaluated: 100000000\n",
      "\tSites evaluated: 100000000\n",
      "\tSites evaluated: 150000000\n",
      "\tSites evaluated: 150000000\n",
      "\tSites evaluated: 150000000\n",
      "\tSites evaluated: 200000000\n",
      "\tSites evaluated: 200000000\n",
      "\tSites evaluated: 200000000\n",
      "Total evaluated rows: 235536788\n",
      "[2024-08-12 08:07:23.556904] Extraction of candidates bonafide sites finished for outTable_535670354 outTable_396704193 samples. Elapsed time: 0:06:44.011600.\n",
      "Total evaluated rows: 236217106\n",
      "[2024-08-12 08:07:23.690745] Extraction of candidates bonafide sites finished for outTable_773331943 outTable_302610513 samples. Elapsed time: 0:06:44.145326.\n",
      "Total evaluated rows: 241316303\n",
      "[2024-08-12 08:07:43.930033] Extraction of candidates bonafide sites finished for outTable_192318299 outTable_436061877 samples. Elapsed time: 0:07:04.384856.\n"
     ]
    },
    {
     "name": "stderr",
     "output_type": "stream",
     "text": [
      "Pysam version used: 0.15.4\n",
      "Script time --> START: 12/08/2024 08:07:47\n",
      "Table saved on /lustrehome/pietrolucamazzacuva/filezilla-recas/tissues/independent_datasets/a549/outTable_192318299_outTable_436061877_candidates_bona_fide_sites.out.rmsk\n",
      "Script time --> END: 12/08/2024 08:08:10\n",
      "Pysam version used: 0.15.4\n",
      "Script time --> START: 12/08/2024 08:07:47\n",
      "Table saved on /lustrehome/pietrolucamazzacuva/filezilla-recas/tissues/independent_datasets/a549/outTable_773331943_outTable_302610513_candidates_bona_fide_sites.out.rmsk\n",
      "Script time --> END: 12/08/2024 08:08:10\n",
      "Pysam version used: 0.15.4\n",
      "Script time --> START: 12/08/2024 08:07:47\n",
      "Table saved on /lustrehome/pietrolucamazzacuva/filezilla-recas/tissues/independent_datasets/a549/outTable_535670354_outTable_396704193_candidates_bona_fide_sites.out.rmsk\n",
      "Script time --> END: 12/08/2024 08:08:11\n",
      "Pysam version used: 0.15.4\n",
      "Script time --> START: 12/08/2024 08:09:44\n",
      "Table saved on /lustrehome/pietrolucamazzacuva/filezilla-recas/tissues/independent_datasets/a549/outTable_773331943_outTable_302610513_candidates_bona_fide_sites.out.rmsk.refseq\n",
      "Script time --> END: 12/08/2024 08:10:08\n",
      "Pysam version used: 0.15.4\n",
      "Script time --> START: 12/08/2024 08:09:44\n",
      "Table saved on /lustrehome/pietrolucamazzacuva/filezilla-recas/tissues/independent_datasets/a549/outTable_192318299_outTable_436061877_candidates_bona_fide_sites.out.rmsk.refseq\n",
      "Script time --> END: 12/08/2024 08:10:08\n",
      "Pysam version used: 0.15.4\n",
      "Script time --> START: 12/08/2024 08:09:44\n",
      "Table saved on /lustrehome/pietrolucamazzacuva/filezilla-recas/tissues/independent_datasets/a549/outTable_535670354_outTable_396704193_candidates_bona_fide_sites.out.rmsk.refseq\n",
      "Script time --> END: 12/08/2024 08:10:09\n"
     ]
    }
   ],
   "source": [
    "min_dna_cov = 10\n",
    "min_rna_cov = 50\n",
    "min_AG_rate = 0.01\n",
    "min_G = 3\n",
    "seq_lenght = 101\n",
    "\n",
    "cells = \"a549\"\n",
    "\n",
    "samples, rmsk_file_name, refseq_file_name, filespath = give_inputs(cells)\n",
    "\n",
    "inputs = []\n",
    "for i in range(len(samples)):\n",
    "    for j in range(len(samples[i])):\n",
    "        inputs.append([os.path.join(filespath, f\"{samples[i][j]}\"), min_G, min_AG_rate, min_rna_cov, seq_lenght])\n",
    "\n",
    "with Pool(9) as pool:\n",
    "    pool.starmap(extraction, inputs)\n",
    "\n",
    "inputs = []\n",
    "for i in range(3):\n",
    "    inputs.append([samples[i][0], samples[i][1], filespath, cells, min_G, min_AG_rate, min_dna_cov, min_rna_cov])\n",
    "\n",
    "with Pool(6) as pool:\n",
    "    pool.starmap(candidates_bona_fide_extraction, inputs)     \n",
    "\n",
    "bonafide_identification(filespath, rmsk_file_name, refseq_file_name)"
   ]
  },
  {
   "cell_type": "code",
   "execution_count": 4,
   "id": "3ac79015",
   "metadata": {},
   "outputs": [
    {
     "name": "stdout",
     "output_type": "stream",
     "text": [
      "\tSites evaluated: 0\n",
      "\tSites evaluated: 0\n",
      "\tSites evaluated: 0\n",
      "\tSites evaluated: 0\n",
      "\tSites evaluated: 0\n",
      "\tSites evaluated: 0\n"
     ]
    },
    {
     "name": "stderr",
     "output_type": "stream",
     "text": [
      "Pysam version used: 0.15.4\n",
      "Script time --> START: 12/08/2024 08:36:06\n",
      "Table saved on /lustrehome/pietrolucamazzacuva/filezilla-recas/tissues/independent_datasets/HEK293T/outTable_208420383_outTable_905657585_candidates_bona_fide_sites.out.rmsk.refseq\n",
      "Script time --> END: 12/08/2024 08:38:09\n",
      "Pysam version used: 0.15.4\n",
      "Script time --> START: 12/08/2024 08:36:06\n",
      "Table saved on /lustrehome/pietrolucamazzacuva/filezilla-recas/tissues/independent_datasets/HEK293T/outTable_814257267_outTable_364841872_candidates_bona_fide_sites.out.rmsk.refseq\n",
      "Script time --> END: 12/08/2024 08:38:18\n",
      "Pysam version used: 0.15.4\n",
      "Script time --> START: 12/08/2024 08:36:06\n",
      "Table saved on /lustrehome/pietrolucamazzacuva/filezilla-recas/tissues/independent_datasets/HEK293T/outTable_530905096_outTable_597789462_candidates_bona_fide_sites.out.rmsk.refseq\n",
      "Script time --> END: 12/08/2024 08:38:27\n"
     ]
    },
    {
     "name": "stdout",
     "output_type": "stream",
     "text": [
      "\tSites evaluated: 50000000\n",
      "\tSites evaluated: 50000000\n",
      "\tSites evaluated: 50000000\n",
      "\tSites evaluated: 50000000\n",
      "\tSites evaluated: 50000000\n",
      "\tSites evaluated: 50000000\n",
      "\tSites evaluated: 100000000\n",
      "\tSites evaluated: 100000000\n",
      "\tSites evaluated: 100000000\n",
      "\tSites evaluated: 100000000\n",
      "\tSites evaluated: 100000000\n",
      "\tSites evaluated: 100000000\n",
      "\tSites evaluated: 150000000\n",
      "\tSites evaluated: 150000000\n",
      "\tSites evaluated: 150000000\n",
      "\tSites evaluated: 150000000\n",
      "\tSites evaluated: 150000000\n",
      "\tSites evaluated: 150000000\n",
      "\tSites evaluated: 200000000\n",
      "\tSites evaluated: 200000000\n",
      "\tSites evaluated: 200000000\n",
      "\tSites evaluated: 200000000\n",
      "\tSites evaluated: 200000000\n",
      "\tSites evaluated: 200000000\n",
      "\tSites evaluated: 250000000\n",
      "\tSites evaluated: 250000000\n",
      "\tSites evaluated: 250000000\n",
      "\tSites evaluated: 250000000\n",
      "\tSites evaluated: 250000000\n",
      "\tSites evaluated: 250000000\n",
      "\tSites evaluated: 300000000\n",
      "\tSites evaluated: 300000000\n",
      "\tSites evaluated: 300000000\n",
      "\tSites evaluated: 300000000\n",
      "\tSites evaluated: 300000000\n",
      "\tSites evaluated: 300000000\n",
      "\tSites evaluated: 350000000\n",
      "\tSites evaluated: 350000000\n",
      "\tSites evaluated: 350000000\n",
      "\tSites evaluated: 350000000\n",
      "\tSites evaluated: 350000000\n",
      "\tSites evaluated: 350000000\n",
      "\tSites evaluated: 400000000\n",
      "\tSites evaluated: 400000000\n",
      "\tSites evaluated: 400000000\n",
      "\tSites evaluated: 400000000\n",
      "\tSites evaluated: 400000000\n",
      "\tSites evaluated: 400000000\n",
      "Total evaluated rows: 419443529\n",
      "[2024-08-12 08:46:40.311644] Extraction of Editing Candidates finished for current sample. Elapsed time: 0:08:32.616898.\n",
      "[2024-08-12 08:46:40.314090] Starting extraction of intervals.\n",
      "[2024-08-12 08:46:40.343637] Loading reditable with tabix and pysam: /lustrehome/pietrolucamazzacuva/filezilla-recas/tissues/independent_datasets/HEK/outTable_718392497\n"
     ]
    },
    {
     "name": "stderr",
     "output_type": "stream",
     "text": [
      "  7%|▋         | 375/5239 [00:05<00:53, 90.26it/s] "
     ]
    },
    {
     "name": "stdout",
     "output_type": "stream",
     "text": [
      "Total evaluated rows: 422584480\n",
      "[2024-08-12 08:46:46.515165] Extraction of Editing Candidates finished for current sample. Elapsed time: 0:08:38.820314.\n",
      "[2024-08-12 08:46:46.517307] Starting extraction of intervals.\n",
      "[2024-08-12 08:46:46.534328] Loading reditable with tabix and pysam: /lustrehome/pietrolucamazzacuva/filezilla-recas/tissues/independent_datasets/HEK/outTable_181728208\n"
     ]
    },
    {
     "name": "stderr",
     "output_type": "stream",
     "text": [
      " 89%|████████▊ | 4649/5239 [00:31<00:02, 216.62it/s]]"
     ]
    },
    {
     "name": "stdout",
     "output_type": "stream",
     "text": [
      "\tSites evaluated: 450000000\n"
     ]
    },
    {
     "name": "stderr",
     "output_type": "stream",
     "text": [
      " 56%|█████▌    | 7345/13076 [00:28<00:18, 309.93it/s]"
     ]
    },
    {
     "name": "stdout",
     "output_type": "stream",
     "text": [
      "Total evaluated rows: 452378572\n",
      "[2024-08-12 08:47:15.440800] Extraction of Editing Candidates finished for current sample. Elapsed time: 0:09:07.746514.\n",
      "[2024-08-12 08:47:15.442702] Starting extraction of intervals.\n",
      "[2024-08-12 08:47:15.457593] Loading reditable with tabix and pysam: "
     ]
    },
    {
     "name": "stderr",
     "output_type": "stream",
     "text": [
      " 56%|█████▋    | 7377/13076 [00:28<00:19, 286.38it/s]"
     ]
    },
    {
     "name": "stdout",
     "output_type": "stream",
     "text": [
      "/lustrehome/pietrolucamazzacuva/filezilla-recas/tissues/independent_datasets/HEK/outTable_724242056\n"
     ]
    },
    {
     "name": "stderr",
     "output_type": "stream",
     "text": [
      "100%|██████████| 5239/5239 [00:35<00:00, 149.63it/s]\n"
     ]
    },
    {
     "name": "stdout",
     "output_type": "stream",
     "text": [
      "[2024-08-12 08:47:15.526787] Features Extraction Finished. Elapsed time 0:00:35.207589.\n",
      "[2024-08-12 08:47:15.544342] Computation Finished. Total Elapsed time: 0:09:07.849617\n"
     ]
    },
    {
     "name": "stderr",
     "output_type": "stream",
     "text": [
      " 62%|██████▏   | 8130/13076 [00:31<00:17, 276.97it/s]"
     ]
    },
    {
     "name": "stdout",
     "output_type": "stream",
     "text": [
      "\tSites evaluated: 450000000\n"
     ]
    },
    {
     "name": "stderr",
     "output_type": "stream",
     "text": [
      "  9%|▉         | 773/8608 [00:03<00:30, 254.43it/s]s]"
     ]
    },
    {
     "name": "stdout",
     "output_type": "stream",
     "text": [
      "\tSites evaluated: 450000000\n"
     ]
    },
    {
     "name": "stderr",
     "output_type": "stream",
     "text": [
      " 10%|█         | 897/8608 [00:04<00:39, 196.55it/s]s]"
     ]
    },
    {
     "name": "stdout",
     "output_type": "stream",
     "text": [
      "\tSites evaluated: 450000000\n"
     ]
    },
    {
     "name": "stderr",
     "output_type": "stream",
     "text": [
      "100%|██████████| 13076/13076 [00:51<00:00, 255.20it/s]\n"
     ]
    },
    {
     "name": "stdout",
     "output_type": "stream",
     "text": [
      "[2024-08-12 08:47:37.931713] Features Extraction Finished. Elapsed time 0:00:51.410712.\n",
      "[2024-08-12 08:47:37.967060] Computation Finished. Total Elapsed time: 0:09:30.272234\n"
     ]
    },
    {
     "name": "stderr",
     "output_type": "stream",
     "text": [
      " 62%|██████▏   | 5340/8608 [00:28<00:14, 230.01it/s]"
     ]
    },
    {
     "name": "stdout",
     "output_type": "stream",
     "text": [
      "Total evaluated rows: 469580145\n",
      "[2024-08-12 08:47:44.168845] Extraction of Editing Candidates finished for current sample. Elapsed time: 0:09:36.474413.\n",
      "[2024-08-12 08:47:44.170603] Starting extraction of intervals.\n",
      "[2024-08-12 08:47:44.182633] Loading reditable with tabix and pysam: /lustrehome/pietrolucamazzacuva/filezilla-recas/tissues/independent_datasets/HEK/outTable_816573740\n"
     ]
    },
    {
     "name": "stderr",
     "output_type": "stream",
     "text": [
      "100%|██████████| 8608/8608 [00:43<00:00, 196.82it/s]\n"
     ]
    },
    {
     "name": "stdout",
     "output_type": "stream",
     "text": [
      "[2024-08-12 08:47:59.301538] Features Extraction Finished. Elapsed time 0:00:43.856148.\n"
     ]
    },
    {
     "name": "stderr",
     "output_type": "stream",
     "text": [
      " 43%|████▎     | 2855/6645 [00:15<00:14, 258.84it/s]"
     ]
    },
    {
     "name": "stdout",
     "output_type": "stream",
     "text": [
      "[2024-08-12 08:47:59.325195] Computation Finished. Total Elapsed time: 0:09:51.630926\n"
     ]
    },
    {
     "name": "stderr",
     "output_type": "stream",
     "text": [
      " 47%|████▋     | 3101/6645 [00:16<00:23, 148.37it/s]"
     ]
    },
    {
     "name": "stdout",
     "output_type": "stream",
     "text": [
      "Total evaluated rows: 483808594\n",
      "[2024-08-12 08:48:00.794968] Extraction of Editing Candidates finished for current sample. Elapsed time: 0:09:53.100391.\n",
      "[2024-08-12 08:48:00.797112] Starting extraction of intervals.\n",
      "[2024-08-12 08:48:00.811683] Loading reditable with tabix and pysam: /lustrehome/pietrolucamazzacuva/filezilla-recas/tissues/independent_datasets/HEK/outTable_580067564\n"
     ]
    },
    {
     "name": "stderr",
     "output_type": "stream",
     "text": [
      " 94%|█████████▍| 6262/6645 [00:35<00:02, 175.79it/s]]"
     ]
    },
    {
     "name": "stdout",
     "output_type": "stream",
     "text": [
      "\tSites evaluated: 500000000\n"
     ]
    },
    {
     "name": "stderr",
     "output_type": "stream",
     "text": [
      "100%|██████████| 6645/6645 [00:37<00:00, 174.95it/s]]\n"
     ]
    },
    {
     "name": "stdout",
     "output_type": "stream",
     "text": [
      "[2024-08-12 08:48:22.281008] Features Extraction Finished. Elapsed time 0:00:38.107554.\n",
      "[2024-08-12 08:48:22.317469] Computation Finished. Total Elapsed time: 0:10:14.623069\n"
     ]
    },
    {
     "name": "stderr",
     "output_type": "stream",
     "text": [
      " 65%|██████▍   | 8237/12737 [00:41<00:21, 204.65it/s]"
     ]
    },
    {
     "name": "stdout",
     "output_type": "stream",
     "text": [
      "Total evaluated rows: 519011879\n",
      "[2024-08-12 08:48:42.545980] Extraction of Editing Candidates finished for current sample. Elapsed time: 0:10:34.850990.\n",
      "[2024-08-12 08:48:42.547871] Starting extraction of intervals.\n",
      "[2024-08-12 08:48:42.560919] Loading reditable with tabix and pysam: /lustrehome/pietrolucamazzacuva/filezilla-recas/tissues/independent_datasets/HEK/outTable_854894021\n"
     ]
    },
    {
     "name": "stderr",
     "output_type": "stream",
     "text": [
      "100%|██████████| 12737/12737 [01:03<00:00, 201.07it/s]\n"
     ]
    },
    {
     "name": "stdout",
     "output_type": "stream",
     "text": [
      "[2024-08-12 08:49:04.257302] Features Extraction Finished. Elapsed time 0:01:03.457092.\n",
      "[2024-08-12 08:49:04.290489] Computation Finished. Total Elapsed time: 0:10:56.595939\n"
     ]
    },
    {
     "name": "stderr",
     "output_type": "stream",
     "text": [
      "100%|██████████| 8460/8460 [01:00<00:00, 140.87it/s]\n"
     ]
    },
    {
     "name": "stdout",
     "output_type": "stream",
     "text": [
      "[2024-08-12 08:49:42.779057] Features Extraction Finished. Elapsed time 0:01:00.228432.\n",
      "[2024-08-12 08:49:42.805519] Computation Finished. Total Elapsed time: 0:11:35.110546\n",
      "\tSites evaluated: 0\n",
      "\tSites evaluated: 0\n",
      "\tSites evaluated: 0\n",
      "\tSites evaluated: 50000000\n",
      "\tSites evaluated: 50000000\n",
      "\tSites evaluated: 50000000\n",
      "\tSites evaluated: 100000000\n",
      "\tSites evaluated: 100000000\n",
      "\tSites evaluated: 100000000\n",
      "\tSites evaluated: 150000000\n",
      "\tSites evaluated: 150000000\n",
      "\tSites evaluated: 150000000\n",
      "\tSites evaluated: 200000000\n",
      "\tSites evaluated: 200000000\n",
      "\tSites evaluated: 200000000\n",
      "\tSites evaluated: 250000000\n",
      "\tSites evaluated: 250000000\n",
      "\tSites evaluated: 250000000\n",
      "\tSites evaluated: 300000000\n",
      "\tSites evaluated: 300000000\n",
      "\tSites evaluated: 300000000\n",
      "\tSites evaluated: 350000000\n",
      "\tSites evaluated: 350000000\n",
      "\tSites evaluated: 350000000\n",
      "\tSites evaluated: 400000000\n",
      "\tSites evaluated: 400000000\n",
      "\tSites evaluated: 400000000\n",
      "\tSites evaluated: 450000000\n",
      "Total evaluated rows: 422584480\n",
      "[2024-08-12 09:01:42.197117] Extraction of candidates bonafide sites finished for outTable_181728208 outTable_854894021 samples. Elapsed time: 0:11:59.295183.\n",
      "\tSites evaluated: 450000000\n",
      "Total evaluated rows: 452378572\n",
      "[2024-08-12 09:01:57.919074] Extraction of candidates bonafide sites finished for outTable_724242056 outTable_816573740 samples. Elapsed time: 0:12:15.017408.\n",
      "Total evaluated rows: 483808594\n",
      "[2024-08-12 09:02:05.877240] Extraction of candidates bonafide sites finished for outTable_580067564 outTable_718392497 samples. Elapsed time: 0:12:22.975530.\n"
     ]
    },
    {
     "name": "stderr",
     "output_type": "stream",
     "text": [
      "Pysam version used: 0.15.4\n",
      "Script time --> START: 12/08/2024 09:02:07\n",
      "Table saved on /lustrehome/pietrolucamazzacuva/filezilla-recas/tissues/independent_datasets/HEK/outTable_724242056_outTable_816573740_candidates_bona_fide_sites.out.rmsk\n",
      "Script time --> END: 12/08/2024 09:02:26\n",
      "Pysam version used: 0.15.4\n",
      "Script time --> START: 12/08/2024 09:02:07\n",
      "Table saved on /lustrehome/pietrolucamazzacuva/filezilla-recas/tissues/independent_datasets/HEK/outTable_580067564_outTable_718392497_candidates_bona_fide_sites.out.rmsk\n",
      "Script time --> END: 12/08/2024 09:02:30\n",
      "Pysam version used: 0.15.4\n",
      "Script time --> START: 12/08/2024 09:02:07\n",
      "Table saved on /lustrehome/pietrolucamazzacuva/filezilla-recas/tissues/independent_datasets/HEK/outTable_181728208_outTable_854894021_candidates_bona_fide_sites.out.rmsk\n",
      "Script time --> END: 12/08/2024 09:02:36\n",
      "Pysam version used: 0.15.4\n",
      "Script time --> START: 12/08/2024 09:04:06\n",
      "Table saved on /lustrehome/pietrolucamazzacuva/filezilla-recas/tissues/independent_datasets/HEK/outTable_724242056_outTable_816573740_candidates_bona_fide_sites.out.rmsk.refseq\n",
      "Script time --> END: 12/08/2024 09:04:26\n",
      "Pysam version used: 0.15.4\n",
      "Script time --> START: 12/08/2024 09:04:06\n",
      "Table saved on /lustrehome/pietrolucamazzacuva/filezilla-recas/tissues/independent_datasets/HEK/outTable_580067564_outTable_718392497_candidates_bona_fide_sites.out.rmsk.refseq\n",
      "Script time --> END: 12/08/2024 09:04:29\n",
      "Pysam version used: 0.15.4\n",
      "Script time --> START: 12/08/2024 09:04:06\n",
      "Table saved on /lustrehome/pietrolucamazzacuva/filezilla-recas/tissues/independent_datasets/HEK/outTable_181728208_outTable_854894021_candidates_bona_fide_sites.out.rmsk.refseq\n",
      "Script time --> END: 12/08/2024 09:04:34\n"
     ]
    }
   ],
   "source": [
    "min_dna_cov = 10\n",
    "min_rna_cov = 30\n",
    "min_AG_rate = 0.01\n",
    "min_G = 2\n",
    "seq_lenght = 101\n",
    "\n",
    "cells = \"HEK\"\n",
    "\n",
    "samples, rmsk_file_name, refseq_file_name, filespath = give_inputs(cells)\n",
    "  \n",
    "inputs = []\n",
    "for i in range(len(samples)):\n",
    "    for j in range(len(samples[i])):\n",
    "        inputs.append([os.path.join(filespath, f\"{samples[i][j]}\"), min_G, min_AG_rate, min_rna_cov, seq_lenght])\n",
    "\n",
    "with Pool(9) as pool:\n",
    "    pool.starmap(extraction, inputs)\n",
    "    \n",
    "inputs = []\n",
    "for i in range(3):\n",
    "    inputs.append([samples[i][0], samples[i][1], filespath, cells, min_G, min_AG_rate, min_dna_cov, min_rna_cov])\n",
    "\n",
    "with Pool(6) as pool:\n",
    "    pool.starmap(candidates_bona_fide_extraction, inputs)     \n",
    "\n",
    "bonafide_identification(filespath, rmsk_file_name, refseq_file_name)"
   ]
  },
  {
   "cell_type": "code",
   "execution_count": 5,
   "id": "f56cb58d-230d-4830-a68e-ae1106e041f9",
   "metadata": {},
   "outputs": [
    {
     "name": "stdout",
     "output_type": "stream",
     "text": [
      "\tSites evaluated: 0\n",
      "\tSites evaluated: 0\n",
      "\tSites evaluated: 50000000\n",
      "\tSites evaluated: 50000000\n",
      "\tSites evaluated: 100000000\n",
      "\tSites evaluated: 100000000\n",
      "\tSites evaluated: 150000000\n",
      "\tSites evaluated: 150000000\n",
      "\tSites evaluated: 200000000\n",
      "\tSites evaluated: 200000000\n",
      "Total evaluated rows: 213159783\n",
      "[2024-08-12 09:10:30.350499] Extraction of Editing Candidates finished for current sample. Elapsed time: 0:04:23.735237.\n",
      "[2024-08-12 09:10:30.353553] Starting extraction of intervals.\n",
      "[2024-08-12 09:10:30.378151] Loading reditable with tabix and pysam: /lustrehome/pietrolucamazzacuva/filezilla-recas/tissues/independent_datasets/U87/outTable_921089530\n"
     ]
    },
    {
     "name": "stderr",
     "output_type": "stream",
     "text": [
      " 51%|█████     | 4644/9180 [00:13<00:12, 356.94it/s]"
     ]
    },
    {
     "name": "stdout",
     "output_type": "stream",
     "text": [
      "Total evaluated rows: 225346133\n",
      "[2024-08-12 09:10:44.128755] Extraction of Editing Candidates finished for current sample. Elapsed time: 0:04:37.514037.\n",
      "[2024-08-12 09:10:44.130865] Starting extraction of intervals.\n",
      "[2024-08-12 09:10:44.147168] Loading reditable with tabix and pysam: /lustrehome/pietrolucamazzacuva/filezilla-recas/tissues/independent_datasets/U87/outTable_853538513\n"
     ]
    },
    {
     "name": "stderr",
     "output_type": "stream",
     "text": [
      "100%|██████████| 9180/9180 [00:26<00:00, 346.47it/s]]\n"
     ]
    },
    {
     "name": "stdout",
     "output_type": "stream",
     "text": [
      "[2024-08-12 09:10:57.013568] Features Extraction Finished. Elapsed time 0:00:26.655084.\n",
      "[2024-08-12 09:10:57.041925] Computation Finished. Total Elapsed time: 0:04:50.426690\n"
     ]
    },
    {
     "name": "stderr",
     "output_type": "stream",
     "text": [
      "100%|██████████| 11663/11663 [00:34<00:00, 338.28it/s]\n"
     ]
    },
    {
     "name": "stdout",
     "output_type": "stream",
     "text": [
      "[2024-08-12 09:11:18.732449] Features Extraction Finished. Elapsed time 0:00:34.597876.\n",
      "[2024-08-12 09:11:18.761879] Computation Finished. Total Elapsed time: 0:05:12.147182\n",
      "\tSites evaluated: 0\n",
      "\tSites evaluated: 50000000\n",
      "\tSites evaluated: 100000000\n",
      "\tSites evaluated: 150000000\n",
      "\tSites evaluated: 200000000\n",
      "Total evaluated rows: 225346133\n",
      "[2024-08-12 09:17:20.854011] Extraction of candidates bonafide sites finished for outTable_853538513 outTable_921089530 samples. Elapsed time: 0:06:01.982123.\n"
     ]
    },
    {
     "name": "stderr",
     "output_type": "stream",
     "text": [
      "Pysam version used: 0.15.4\n",
      "Script time --> START: 12/08/2024 09:17:22\n",
      "Table saved on /lustrehome/pietrolucamazzacuva/filezilla-recas/tissues/independent_datasets/U87/outTable_853538513_outTable_921089530_candidates_bona_fide_sites.out.rmsk\n",
      "Script time --> END: 12/08/2024 09:17:42\n",
      "Pysam version used: 0.15.4\n",
      "Script time --> START: 12/08/2024 09:19:21\n",
      "Table saved on /lustrehome/pietrolucamazzacuva/filezilla-recas/tissues/independent_datasets/U87/outTable_853538513_outTable_921089530_candidates_bona_fide_sites.out.rmsk.refseq\n",
      "Script time --> END: 12/08/2024 09:19:43\n"
     ]
    }
   ],
   "source": [
    "min_dna_cov = 10\n",
    "min_rna_cov = 30\n",
    "min_AG_rate = 0.01\n",
    "min_G = 2\n",
    "seq_lenght = 101\n",
    "\n",
    "cells = \"U87\"\n",
    "\n",
    "samples, rmsk_file_name, refseq_file_name, filespath = give_inputs(cells)\n",
    "  \n",
    "inputs = []\n",
    "for i in range(len(samples)):\n",
    "    for j in range(len(samples[i])):\n",
    "        inputs.append([os.path.join(filespath, f\"{samples[i][j]}\"), min_G, min_AG_rate, min_rna_cov, seq_lenght])\n",
    "\n",
    "with Pool(9) as pool:\n",
    "    pool.starmap(extraction, inputs)\n",
    "    \n",
    "inputs = []\n",
    "for i in range(1):\n",
    "    inputs.append([samples[i][0], samples[i][1], filespath, cells, min_G, min_AG_rate, min_dna_cov, min_rna_cov])\n",
    "\n",
    "with Pool(6) as pool:\n",
    "    pool.starmap(candidates_bona_fide_extraction, inputs)     \n",
    "\n",
    "bonafide_identification(filespath, rmsk_file_name, refseq_file_name)"
   ]
  },
  {
   "cell_type": "code",
   "execution_count": 2,
   "id": "c8688885-0238-4ac0-8e88-3060fb59bdcf",
   "metadata": {},
   "outputs": [
    {
     "name": "stdout",
     "output_type": "stream",
     "text": [
      "\tSites evaluated: 0\n",
      "\tSites evaluated: 0\tSites evaluated: 0\n",
      "\tSites evaluated: 0\tSites evaluated: 0\n",
      "\n",
      "\n",
      "\tSites evaluated: 0\n",
      "\tSites evaluated: 0\n",
      "\tSites evaluated: 0\n",
      "\tSites evaluated: 0\n",
      "\tSites evaluated: 50000000\n",
      "\tSites evaluated: 50000000\n",
      "\tSites evaluated: 50000000\n",
      "\tSites evaluated: 50000000\n",
      "\tSites evaluated: 50000000\n",
      "\tSites evaluated: 50000000\n",
      "\tSites evaluated: 50000000\n",
      "\tSites evaluated: 50000000\n",
      "\tSites evaluated: 50000000\n",
      "\tSites evaluated: 100000000\n",
      "\tSites evaluated: 100000000\n",
      "\tSites evaluated: 100000000\n",
      "\tSites evaluated: 100000000\n",
      "\tSites evaluated: 100000000\n",
      "\tSites evaluated: 100000000\n",
      "\tSites evaluated: 100000000\n",
      "\tSites evaluated: 100000000\n",
      "\tSites evaluated: 100000000\n",
      "\tSites evaluated: 150000000\n",
      "\tSites evaluated: 150000000\n",
      "\tSites evaluated: 150000000\n",
      "\tSites evaluated: 150000000\n",
      "\tSites evaluated: 150000000\n",
      "\tSites evaluated: 150000000\n",
      "\tSites evaluated: 150000000\n",
      "\tSites evaluated: 150000000\n",
      "\tSites evaluated: 150000000\n",
      "Total evaluated rows: 194677901\n",
      "[2024-08-12 14:58:25.243071] Extraction of Editing Candidates finished for current sample. Elapsed time: 0:04:04.539890.\n",
      "[2024-08-12 14:58:25.267193] Starting extraction of intervals.\n",
      "[2024-08-12 14:58:25.285317] Loading reditable with tabix and pysam: /lustrehome/pietrolucamazzacuva/filezilla-recas/tissues/independent_datasets/HEK293T/outTable_905657585\n"
     ]
    },
    {
     "name": "stderr",
     "output_type": "stream",
     "text": [
      " 19%|█▉        | 2330/12094 [00:06<00:27, 349.98it/s]"
     ]
    },
    {
     "name": "stdout",
     "output_type": "stream",
     "text": [
      "\tSites evaluated: 200000000\n"
     ]
    },
    {
     "name": "stderr",
     "output_type": "stream",
     "text": [
      " 23%|██▎       | 2783/12094 [00:08<00:28, 322.24it/s]"
     ]
    },
    {
     "name": "stdout",
     "output_type": "stream",
     "text": [
      "Total evaluated rows: 199831579\n",
      "[2024-08-12 14:58:33.662586] Extraction of Editing Candidates finished for current sample. Elapsed time: 0:04:12.957696.\n",
      "[2024-08-12 14:58:33.666338] Starting extraction of intervals.\n"
     ]
    },
    {
     "name": "stderr",
     "output_type": "stream",
     "text": [
      " 23%|██▎       | 2816/12094 [00:08<00:28, 320.76it/s]"
     ]
    },
    {
     "name": "stdout",
     "output_type": "stream",
     "text": [
      "[2024-08-12 14:58:33.710815] Loading reditable with tabix and pysam: /lustrehome/pietrolucamazzacuva/filezilla-recas/tissues/independent_datasets/HEK293T/outTable_110067244\n"
     ]
    },
    {
     "name": "stderr",
     "output_type": "stream",
     "text": [
      " 25%|██▌       | 3037/12094 [00:08<00:26, 342.09it/s]"
     ]
    },
    {
     "name": "stdout",
     "output_type": "stream",
     "text": [
      "\tSites evaluated: 200000000\n"
     ]
    },
    {
     "name": "stderr",
     "output_type": "stream",
     "text": [
      " 27%|██▋       | 3274/12094 [00:09<00:28, 306.20it/s]"
     ]
    },
    {
     "name": "stdout",
     "output_type": "stream",
     "text": [
      "\tSites evaluated: 200000000\n"
     ]
    },
    {
     "name": "stderr",
     "output_type": "stream",
     "text": [
      " 27%|██▋       | 3305/12094 [00:09<00:29, 298.65it/s]"
     ]
    },
    {
     "name": "stdout",
     "output_type": "stream",
     "text": [
      "\tSites evaluated: 200000000\n"
     ]
    },
    {
     "name": "stderr",
     "output_type": "stream",
     "text": [
      " 29%|██▉       | 3492/12094 [00:10<00:25, 341.79it/s]"
     ]
    },
    {
     "name": "stdout",
     "output_type": "stream",
     "text": [
      "\tSites evaluated: 200000000\n"
     ]
    },
    {
     "name": "stderr",
     "output_type": "stream",
     "text": [
      "  1%|          | 179/24911 [00:02<07:44, 53.29it/s] "
     ]
    },
    {
     "name": "stdout",
     "output_type": "stream",
     "text": [
      "\tSites evaluated: 200000000\n"
     ]
    },
    {
     "name": "stderr",
     "output_type": "stream",
     "text": [
      " 39%|███▉      | 4698/12094 [00:13<00:22, 329.25it/s]"
     ]
    },
    {
     "name": "stdout",
     "output_type": "stream",
     "text": [
      "Total evaluated rows: 205675117\n"
     ]
    },
    {
     "name": "stderr",
     "output_type": "stream",
     "text": [
      "  6%|▌         | 1457/24911 [00:05<01:04, 362.32it/s]"
     ]
    },
    {
     "name": "stdout",
     "output_type": "stream",
     "text": [
      "[2024-08-12 14:58:39.319305] Extraction of Editing Candidates finished for current sample. Elapsed time: 0:04:18.615736.\n",
      "[2024-08-12 14:58:39.321487] Starting extraction of intervals.\n",
      "[2024-08-12 14:58:39.339426] Loading reditable with tabix and pysam: /lustrehome/pietrolucamazzacuva/filezilla-recas/tissues/independent_datasets/HEK293T/outTable_364841872\n"
     ]
    },
    {
     "name": "stderr",
     "output_type": "stream",
     "text": [
      " 45%|████▍     | 5404/12094 [00:16<00:20, 331.32it/s]"
     ]
    },
    {
     "name": "stdout",
     "output_type": "stream",
     "text": [
      "\tSites evaluated: 200000000\n"
     ]
    },
    {
     "name": "stderr",
     "output_type": "stream",
     "text": [
      " 15%|█▍        | 3636/24911 [00:12<01:03, 336.12it/s]"
     ]
    },
    {
     "name": "stdout",
     "output_type": "stream",
     "text": [
      "Total evaluated rows: 208788107\n",
      "[2024-08-12 14:58:46.314016] Extraction of Editing Candidates finished for current sample. Elapsed time: 0:04:25.608619.\n",
      "[2024-08-12 14:58:46.318108] Starting extraction of intervals.\n"
     ]
    },
    {
     "name": "stderr",
     "output_type": "stream",
     "text": [
      " 16%|█▌        | 1922/12302 [00:06<00:31, 330.61it/s]"
     ]
    },
    {
     "name": "stdout",
     "output_type": "stream",
     "text": [
      "[2024-08-12 14:58:46.351927] Loading reditable with tabix and pysam:"
     ]
    },
    {
     "name": "stderr",
     "output_type": "stream",
     "text": [
      " 15%|█▍        | 3676/24911 [00:12<01:00, 350.38it/s]"
     ]
    },
    {
     "name": "stdout",
     "output_type": "stream",
     "text": [
      " /lustrehome/pietrolucamazzacuva/filezilla-recas/tissues/independent_datasets/HEK293T/outTable_597789462\n"
     ]
    },
    {
     "name": "stderr",
     "output_type": "stream",
     "text": [
      "100%|██████████| 12094/12094 [00:35<00:00, 340.78it/s]\n",
      " 42%|████▏     | 4765/11464 [00:14<00:21, 316.62it/s]"
     ]
    },
    {
     "name": "stdout",
     "output_type": "stream",
     "text": [
      "[2024-08-12 14:59:00.839802] Features Extraction Finished. Elapsed time 0:00:35.568069.\n"
     ]
    },
    {
     "name": "stderr",
     "output_type": "stream",
     "text": [
      " 34%|███▍      | 8528/24911 [00:27<00:44, 371.62it/s]"
     ]
    },
    {
     "name": "stdout",
     "output_type": "stream",
     "text": [
      "[2024-08-12 14:59:00.878330] Computation Finished. Total Elapsed time: 0:04:40.175180\n"
     ]
    },
    {
     "name": "stderr",
     "output_type": "stream",
     "text": [
      "100%|██████████| 12302/12302 [00:37<00:00, 327.03it/s]\n"
     ]
    },
    {
     "name": "stdout",
     "output_type": "stream",
     "text": [
      "[2024-08-12 14:59:17.078218] Features Extraction Finished. Elapsed time 0:00:37.753599.\n"
     ]
    },
    {
     "name": "stderr",
     "output_type": "stream",
     "text": [
      " 91%|█████████ | 10412/11464 [00:30<00:03, 328.17it/s]"
     ]
    },
    {
     "name": "stdout",
     "output_type": "stream",
     "text": [
      "[2024-08-12 14:59:17.118613] Computation Finished. Total Elapsed time: 0:04:56.415073\n"
     ]
    },
    {
     "name": "stderr",
     "output_type": "stream",
     "text": [
      "100%|██████████| 11464/11464 [00:33<00:00, 339.31it/s]\n"
     ]
    },
    {
     "name": "stdout",
     "output_type": "stream",
     "text": [
      "[2024-08-12 14:59:20.244905] Features Extraction Finished. Elapsed time 0:00:33.921843.\n",
      "[2024-08-12 14:59:20.301418] Computation Finished. Total Elapsed time: 0:04:59.596065\n"
     ]
    },
    {
     "name": "stderr",
     "output_type": "stream",
     "text": [
      " 84%|████████▎ | 20815/24911 [01:03<00:12, 338.46it/s]"
     ]
    },
    {
     "name": "stdout",
     "output_type": "stream",
     "text": [
      "\tSites evaluated: 250000000\n"
     ]
    },
    {
     "name": "stderr",
     "output_type": "stream",
     "text": [
      " 85%|████████▍ | 21110/24911 [01:04<00:10, 345.65it/s]"
     ]
    },
    {
     "name": "stdout",
     "output_type": "stream",
     "text": [
      "\tSites evaluated: 250000000\n"
     ]
    },
    {
     "name": "stderr",
     "output_type": "stream",
     "text": [
      " 86%|████████▌ | 21340/24911 [01:05<00:09, 365.31it/s]"
     ]
    },
    {
     "name": "stdout",
     "output_type": "stream",
     "text": [
      "\tSites evaluated: 250000000\n"
     ]
    },
    {
     "name": "stderr",
     "output_type": "stream",
     "text": [
      " 86%|████████▌ | 21377/24911 [01:05<00:10, 348.44it/s]"
     ]
    },
    {
     "name": "stdout",
     "output_type": "stream",
     "text": [
      "\tSites evaluated: 250000000\n"
     ]
    },
    {
     "name": "stderr",
     "output_type": "stream",
     "text": [
      " 93%|█████████▎| 23278/24911 [01:10<00:04, 332.02it/s]"
     ]
    },
    {
     "name": "stdout",
     "output_type": "stream",
     "text": [
      "\tSites evaluated: 250000000\n"
     ]
    },
    {
     "name": "stderr",
     "output_type": "stream",
     "text": [
      "100%|██████████| 24911/24911 [01:15<00:00, 329.39it/s]\n"
     ]
    },
    {
     "name": "stdout",
     "output_type": "stream",
     "text": [
      "[2024-08-12 14:59:49.434406] Features Extraction Finished. Elapsed time 0:01:15.762420.\n",
      "[2024-08-12 14:59:49.493078] Computation Finished. Total Elapsed time: 0:05:28.788278\n",
      "Total evaluated rows: 266283468\n",
      "[2024-08-12 15:00:05.319840] Extraction of Editing Candidates finished for current sample. Elapsed time: 0:05:44.614346.\n",
      "[2024-08-12 15:00:05.322398] Starting extraction of intervals.\n",
      "[2024-08-12 15:00:05.364119] Loading reditable with tabix and pysam: /lustrehome/pietrolucamazzacuva/filezilla-recas/tissues/independent_datasets/HEK293T/outTable_208420383\n"
     ]
    },
    {
     "name": "stderr",
     "output_type": "stream",
     "text": [
      " 12%|█▏        | 6517/56154 [00:21<02:21, 351.83it/s]"
     ]
    },
    {
     "name": "stdout",
     "output_type": "stream",
     "text": [
      "Total evaluated rows: 288775068\n"
     ]
    },
    {
     "name": "stderr",
     "output_type": "stream",
     "text": [
      " 12%|█▏        | 6553/56154 [00:21<02:31, 327.37it/s]"
     ]
    },
    {
     "name": "stdout",
     "output_type": "stream",
     "text": [
      "[2024-08-12 15:00:26.864081] Extraction of Editing Candidates finished for current sample. Elapsed time: 0:06:06.160674.\n",
      "[2024-08-12 15:00:26.867252] Starting extraction of intervals.\n",
      "[2024-08-12 15:00:26.910910] Loading reditable with tabix and pysam: /lustrehome/pietrolucamazzacuva/filezilla-recas/tissues/independent_datasets/HEK293T/outTable_572868058\n"
     ]
    },
    {
     "name": "stderr",
     "output_type": "stream",
     "text": [
      " 10%|█         | 3962/38951 [00:13<02:03, 283.36it/s]]"
     ]
    },
    {
     "name": "stdout",
     "output_type": "stream",
     "text": [
      "Total evaluated rows: 298198400\n"
     ]
    },
    {
     "name": "stderr",
     "output_type": "stream",
     "text": [
      " 19%|█▉        | 10824/56154 [00:34<02:22, 318.37it/s]"
     ]
    },
    {
     "name": "stdout",
     "output_type": "stream",
     "text": [
      "[2024-08-12 15:00:40.391401] Extraction of Editing Candidates finished for current sample. Elapsed time: 0:06:19.688094.\n",
      "[2024-08-12 15:00:40.394616] Starting extraction of intervals.\n"
     ]
    },
    {
     "name": "stderr",
     "output_type": "stream",
     "text": [
      " 10%|█         | 3994/38951 [00:13<01:59, 292.80it/s]"
     ]
    },
    {
     "name": "stdout",
     "output_type": "stream",
     "text": [
      "[2024-08-12 15:00:40.459078] Loading reditable with tabix and pysam:"
     ]
    },
    {
     "name": "stderr",
     "output_type": "stream",
     "text": [
      " 19%|█▉        | 10857/56154 [00:34<02:33, 294.70it/s]"
     ]
    },
    {
     "name": "stdout",
     "output_type": "stream",
     "text": [
      " /lustrehome/pietrolucamazzacuva/filezilla-recas/tissues/independent_datasets/HEK293T/outTable_530905096\n"
     ]
    },
    {
     "name": "stderr",
     "output_type": "stream",
     "text": [
      " 19%|█▉        | 10925/56154 [00:34<02:26, 307.89it/s][W::hts_idx_load3] The index file is older than the data file: /lustrehome/pietrolucamazzacuva/filezilla-recas/tissues/independent_datasets/HEK293T/outTable_530905096.gz.tbi\n",
      "  0%|          | 138/69347 [00:00<04:05, 281.57it/s]s]"
     ]
    },
    {
     "name": "stdout",
     "output_type": "stream",
     "text": [
      "Total evaluated rows: 298335470\n"
     ]
    },
    {
     "name": "stderr",
     "output_type": "stream",
     "text": [
      " 20%|█▉        | 11089/56154 [00:35<01:56, 388.43it/s]"
     ]
    },
    {
     "name": "stdout",
     "output_type": "stream",
     "text": [
      "[2024-08-12 15:00:41.106371] Extraction of Editing Candidates finished for current sample. Elapsed time: 0:06:20.402153.\n",
      "[2024-08-12 15:00:41.108853] Starting extraction of intervals.\n"
     ]
    },
    {
     "name": "stderr",
     "output_type": "stream",
     "text": [
      " 11%|█         | 4196/38951 [00:14<02:14, 258.82it/s]"
     ]
    },
    {
     "name": "stdout",
     "output_type": "stream",
     "text": [
      "[2024-08-12 15:00:41.152545] Loading reditable with tabix and pysam: /lustrehome/pietrolucamazzacuva/filezilla-recas/tissues/independent_datasets/HEK293T/outTable_814257267\n"
     ]
    },
    {
     "name": "stderr",
     "output_type": "stream",
     "text": [
      "  0%|          | 220/69347 [00:00<04:45, 242.02it/s]s][W::hts_idx_load3] The index file is older than the data file: /lustrehome/pietrolucamazzacuva/filezilla-recas/tissues/independent_datasets/HEK293T/outTable_814257267.gz.tbi\n",
      " 12%|█▏        | 4536/38951 [00:15<01:40, 341.38it/s]]"
     ]
    },
    {
     "name": "stdout",
     "output_type": "stream",
     "text": [
      "\tSites evaluated: 300000000\n"
     ]
    },
    {
     "name": "stderr",
     "output_type": "stream",
     "text": [
      " 62%|██████▏   | 24275/38951 [01:18<00:55, 265.07it/s]"
     ]
    },
    {
     "name": "stdout",
     "output_type": "stream",
     "text": [
      "\tSites evaluated: 350000000\n"
     ]
    },
    {
     "name": "stderr",
     "output_type": "stream",
     "text": [
      " 40%|███▉      | 27020/68040 [01:29<02:31, 269.97it/s]"
     ]
    },
    {
     "name": "stdout",
     "output_type": "stream",
     "text": [
      "Total evaluated rows: 369524874\n",
      "[2024-08-12 15:02:10.366455] Extraction of Editing Candidates finished for current sample. Elapsed time: 0:07:49.667151.\n",
      "[2024-08-12 15:02:10.369445] Starting extraction of intervals.\n"
     ]
    },
    {
     "name": "stderr",
     "output_type": "stream",
     "text": [
      " 69%|██████▊   | 38540/56154 [02:04<01:02, 282.73it/s]"
     ]
    },
    {
     "name": "stdout",
     "output_type": "stream",
     "text": [
      "[2024-08-12 15:02:10.407200] Loading reditable with tabix and pysam: /lustrehome/pietrolucamazzacuva/filezilla-recas/tissues/independent_datasets/HEK293T/outTable_599710609\n"
     ]
    },
    {
     "name": "stderr",
     "output_type": "stream",
     "text": [
      "100%|██████████| 38951/38951 [02:06<00:00, 309.10it/s]\n",
      " 81%|████████▏ | 45665/56154 [02:27<00:33, 309.75it/s]"
     ]
    },
    {
     "name": "stdout",
     "output_type": "stream",
     "text": [
      "[2024-08-12 15:02:33.045413] Features Extraction Finished. Elapsed time 0:02:06.173999.\n"
     ]
    },
    {
     "name": "stderr",
     "output_type": "stream",
     "text": [
      " 48%|████▊     | 33374/69347 [01:52<01:54, 314.06it/s]"
     ]
    },
    {
     "name": "stdout",
     "output_type": "stream",
     "text": [
      "[2024-08-12 15:02:33.141787] Computation Finished. Total Elapsed time: 0:08:12.438428\n"
     ]
    },
    {
     "name": "stderr",
     "output_type": "stream",
     "text": [
      "100%|██████████| 56154/56154 [03:00<00:00, 310.32it/s]\n",
      " 29%|██▉       | 16439/56679 [00:56<02:00, 333.12it/s]"
     ]
    },
    {
     "name": "stdout",
     "output_type": "stream",
     "text": [
      "[2024-08-12 15:03:06.690481] Features Extraction Finished. Elapsed time 0:03:01.365068.\n"
     ]
    },
    {
     "name": "stderr",
     "output_type": "stream",
     "text": [
      " 65%|██████▌   | 44409/68040 [02:25<01:16, 309.85it/s]"
     ]
    },
    {
     "name": "stdout",
     "output_type": "stream",
     "text": [
      "[2024-08-12 15:03:06.822092] Computation Finished. Total Elapsed time: 0:08:46.116650\n"
     ]
    },
    {
     "name": "stderr",
     "output_type": "stream",
     "text": [
      "100%|██████████| 68040/68040 [03:42<00:00, 305.22it/s]\n",
      " 97%|█████████▋| 67365/69347 [03:43<00:08, 247.16it/s]"
     ]
    },
    {
     "name": "stdout",
     "output_type": "stream",
     "text": [
      "[2024-08-12 15:04:24.167965] Features Extraction Finished. Elapsed time 0:03:43.056779.\n"
     ]
    },
    {
     "name": "stderr",
     "output_type": "stream",
     "text": [
      " 67%|██████▋   | 37988/56679 [02:13<01:13, 253.58it/s]"
     ]
    },
    {
     "name": "stdout",
     "output_type": "stream",
     "text": [
      "[2024-08-12 15:04:24.333978] Computation Finished. Total Elapsed time: 0:10:03.629815\n"
     ]
    },
    {
     "name": "stderr",
     "output_type": "stream",
     "text": [
      "100%|██████████| 69347/69347 [03:49<00:00, 301.59it/s]\n",
      " 70%|███████   | 39873/56679 [02:19<00:57, 294.56it/s]"
     ]
    },
    {
     "name": "stdout",
     "output_type": "stream",
     "text": [
      "[2024-08-12 15:04:30.488156] Features Extraction Finished. Elapsed time 0:03:50.090828.\n"
     ]
    },
    {
     "name": "stderr",
     "output_type": "stream",
     "text": [
      " 70%|███████   | 39904/56679 [02:20<00:57, 293.38it/s]"
     ]
    },
    {
     "name": "stdout",
     "output_type": "stream",
     "text": [
      "[2024-08-12 15:04:30.645221] Computation Finished. Total Elapsed time: 0:10:09.941982\n"
     ]
    },
    {
     "name": "stderr",
     "output_type": "stream",
     "text": [
      "100%|██████████| 56679/56679 [03:17<00:00, 286.88it/s]\n"
     ]
    },
    {
     "name": "stdout",
     "output_type": "stream",
     "text": [
      "[2024-08-12 15:05:28.085651] Features Extraction Finished. Elapsed time 0:03:17.713170.\n",
      "[2024-08-12 15:05:28.219872] Computation Finished. Total Elapsed time: 0:11:07.520620\n",
      "\tSites evaluated: 0\n",
      "\tSites evaluated: 0\tSites evaluated: 0\n",
      "\n",
      "\tSites evaluated: 0\n",
      "\tSites evaluated: 0\n",
      "\tSites evaluated: 0\n",
      "\tSites evaluated: 50000000\n",
      "\tSites evaluated: 50000000\n",
      "\tSites evaluated: 50000000\n",
      "\tSites evaluated: 50000000\n",
      "\tSites evaluated: 50000000\n",
      "\tSites evaluated: 50000000\n",
      "\tSites evaluated: 100000000\n",
      "\tSites evaluated: 100000000\n",
      "\tSites evaluated: 100000000\n",
      "\tSites evaluated: 100000000\n",
      "\tSites evaluated: 100000000\n",
      "\tSites evaluated: 100000000\n",
      "\tSites evaluated: 150000000\n",
      "\tSites evaluated: 150000000\n",
      "\tSites evaluated: 150000000\n",
      "\tSites evaluated: 150000000\n",
      "\tSites evaluated: 150000000\n",
      "\tSites evaluated: 150000000\n",
      "\tSites evaluated: 200000000\n",
      "\tSites evaluated: 200000000\n",
      "Total evaluated rows: 199831579\n",
      "[2024-08-12 15:11:40.602585] Extraction of candidates bonafide sites finished for outTable_110067244 outTable_597789462 samples. Elapsed time: 0:06:12.243295.\n",
      "\tSites evaluated: 200000000\n",
      "\tSites evaluated: 200000000\n",
      "\tSites evaluated: 200000000\n",
      "\tSites evaluated: 250000000\n",
      "\tSites evaluated: 250000000\n",
      "\tSites evaluated: 250000000\n",
      "\tSites evaluated: 250000000\n",
      "\tSites evaluated: 250000000\n",
      "Total evaluated rows: 288775068\n",
      "[2024-08-12 15:14:09.561997] Extraction of candidates bonafide sites finished for outTable_572868058 outTable_364841872 samples. Elapsed time: 0:08:41.202972.\n",
      "Total evaluated rows: 266283468\n",
      "[2024-08-12 15:14:23.262537] Extraction of candidates bonafide sites finished for outTable_208420383 outTable_597789462 samples. Elapsed time: 0:08:54.902983.\n",
      "\tSites evaluated: 300000000\n",
      "Total evaluated rows: 298335470\n",
      "[2024-08-12 15:15:29.474127] Extraction of candidates bonafide sites finished for outTable_814257267 outTable_364841872 samples. Elapsed time: 0:10:01.115010.\n",
      "Total evaluated rows: 298198400\n",
      "[2024-08-12 15:15:30.190728] Extraction of candidates bonafide sites finished for outTable_530905096 outTable_905657585 samples. Elapsed time: 0:10:01.831732.\n",
      "\tSites evaluated: 350000000\n",
      "Total evaluated rows: 369524874\n",
      "[2024-08-12 15:16:34.085664] Extraction of candidates bonafide sites finished for outTable_599710609 outTable_905657585 samples. Elapsed time: 0:11:05.727001.\n"
     ]
    },
    {
     "name": "stderr",
     "output_type": "stream",
     "text": [
      "Pysam version used: 0.15.4\n",
      "Script time --> START: 12/08/2024 15:16:34\n",
      "Table saved on /lustrehome/pietrolucamazzacuva/filezilla-recas/tissues/independent_datasets/HEK293T/outTable_110067244_outTable_597789462_candidates_bona_fide_sites.out.rmsk\n",
      "Script time --> END: 12/08/2024 15:17:28\n",
      "Pysam version used: 0.15.4\n",
      "Script time --> START: 12/08/2024 15:16:34\n",
      "Table saved on /lustrehome/pietrolucamazzacuva/filezilla-recas/tissues/independent_datasets/HEK293T/outTable_572868058_outTable_364841872_candidates_bona_fide_sites.out.rmsk\n",
      "Script time --> END: 12/08/2024 15:17:38\n",
      "Pysam version used: 0.15.4\n",
      "Script time --> START: 12/08/2024 15:16:34\n",
      "Table saved on /lustrehome/pietrolucamazzacuva/filezilla-recas/tissues/independent_datasets/HEK293T/outTable_599710609_outTable_905657585_candidates_bona_fide_sites.out.rmsk\n",
      "Script time --> END: 12/08/2024 15:17:54\n",
      "Pysam version used: 0.15.4\n",
      "Script time --> START: 12/08/2024 15:16:34\n",
      "Table saved on /lustrehome/pietrolucamazzacuva/filezilla-recas/tissues/independent_datasets/HEK293T/outTable_208420383_outTable_597789462_candidates_bona_fide_sites.out.rmsk\n",
      "Script time --> END: 12/08/2024 15:18:10\n",
      "Pysam version used: 0.15.4\n",
      "Script time --> START: 12/08/2024 15:16:34\n",
      "Table saved on /lustrehome/pietrolucamazzacuva/filezilla-recas/tissues/independent_datasets/HEK293T/outTable_814257267_outTable_364841872_candidates_bona_fide_sites.out.rmsk\n",
      "Script time --> END: 12/08/2024 15:18:14\n",
      "Pysam version used: 0.15.4\n",
      "Script time --> START: 12/08/2024 15:16:34\n",
      "Table saved on /lustrehome/pietrolucamazzacuva/filezilla-recas/tissues/independent_datasets/HEK293T/outTable_530905096_outTable_905657585_candidates_bona_fide_sites.out.rmsk\n",
      "Script time --> END: 12/08/2024 15:18:21\n",
      "Pysam version used: 0.15.4\n",
      "Script time --> START: 12/08/2024 15:21:34\n",
      "Table saved on /lustrehome/pietrolucamazzacuva/filezilla-recas/tissues/independent_datasets/HEK293T/outTable_110067244_outTable_597789462_candidates_bona_fide_sites.out.rmsk.refseq\n",
      "Script time --> END: 12/08/2024 15:22:41\n",
      "Pysam version used: 0.15.4\n",
      "Script time --> START: 12/08/2024 15:21:34\n",
      "Table saved on /lustrehome/pietrolucamazzacuva/filezilla-recas/tissues/independent_datasets/HEK293T/outTable_572868058_outTable_364841872_candidates_bona_fide_sites.out.rmsk.refseq\n",
      "Script time --> END: 12/08/2024 15:22:59\n",
      "Pysam version used: 0.15.4\n",
      "Script time --> START: 12/08/2024 15:21:34\n",
      "Table saved on /lustrehome/pietrolucamazzacuva/filezilla-recas/tissues/independent_datasets/HEK293T/outTable_599710609_outTable_905657585_candidates_bona_fide_sites.out.rmsk.refseq\n",
      "Script time --> END: 12/08/2024 15:23:17\n",
      "Pysam version used: 0.15.4\n",
      "Script time --> START: 12/08/2024 15:21:34\n",
      "Table saved on /lustrehome/pietrolucamazzacuva/filezilla-recas/tissues/independent_datasets/HEK293T/outTable_208420383_outTable_597789462_candidates_bona_fide_sites.out.rmsk.refseq\n",
      "Script time --> END: 12/08/2024 15:23:39\n",
      "Pysam version used: 0.15.4\n",
      "Script time --> START: 12/08/2024 15:21:34\n",
      "Table saved on /lustrehome/pietrolucamazzacuva/filezilla-recas/tissues/independent_datasets/HEK293T/outTable_814257267_outTable_364841872_candidates_bona_fide_sites.out.rmsk.refseq\n",
      "Script time --> END: 12/08/2024 15:23:47\n",
      "Pysam version used: 0.15.4\n",
      "Script time --> START: 12/08/2024 15:21:34\n",
      "Table saved on /lustrehome/pietrolucamazzacuva/filezilla-recas/tissues/independent_datasets/HEK293T/outTable_530905096_outTable_905657585_candidates_bona_fide_sites.out.rmsk.refseq\n",
      "Script time --> END: 12/08/2024 15:23:53\n"
     ]
    }
   ],
   "source": [
    "min_dna_cov = 10\n",
    "min_rna_cov = 50\n",
    "min_AG_rate = 0.01\n",
    "min_G = 3\n",
    "seq_lenght = 101\n",
    "\n",
    "cells = \"HEK293T\"\n",
    "\n",
    "samples, rmsk_file_name, refseq_file_name, filespath = give_inputs(cells)\n",
    "\n",
    "inputs = []\n",
    "for i in range(len(samples)):\n",
    "    for j in range(len(samples[i])):\n",
    "        inputs.append([os.path.join(filespath, f\"{samples[i][j]}\"), min_G, min_AG_rate, min_rna_cov, seq_lenght])\n",
    "\n",
    "with Pool(9) as pool:\n",
    "    pool.starmap(extraction, inputs)\n",
    "\n",
    "inputs = []\n",
    "for i in range(3):\n",
    "    inputs.append([samples[i][0], samples[i][1], filespath, cells, min_G, min_AG_rate, min_dna_cov, min_rna_cov])\n",
    "    inputs.append([samples[i][2], samples[i][1], filespath, cells, min_G, min_AG_rate, min_dna_cov, min_rna_cov])\n",
    "\n",
    "with Pool(6) as pool:\n",
    "    pool.starmap(candidates_bona_fide_extraction, inputs)     \n",
    "\n",
    "bonafide_identification(filespath, rmsk_file_name, refseq_file_name)"
   ]
  },
  {
   "cell_type": "code",
   "execution_count": null,
   "id": "96e37640-ce41-4449-aebe-d2c96902e991",
   "metadata": {},
   "outputs": [],
   "source": [
    "\n",
    "\n",
    "\n"
   ]
  }
 ],
 "metadata": {
  "kernelspec": {
   "display_name": "Python 3 (ipykernel)",
   "language": "python",
   "name": "python3"
  },
  "language_info": {
   "codemirror_mode": {
    "name": "ipython",
    "version": 3
   },
   "file_extension": ".py",
   "mimetype": "text/x-python",
   "name": "python",
   "nbconvert_exporter": "python",
   "pygments_lexer": "ipython3",
   "version": "3.9.19"
  }
 },
 "nbformat": 4,
 "nbformat_minor": 5
}
